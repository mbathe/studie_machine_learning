{
 "cells": [
  {
   "cell_type": "code",
   "execution_count": 4,
   "id": "a3df95cc-4c7b-4c51-b96d-19df22821459",
   "metadata": {},
   "outputs": [],
   "source": [
    "import time\n",
    "import os\n",
    "import multiprocessing\n",
    "\n",
    "def test_cpu_performance():\n",
    "    \"\"\"Test the CPU performance by performing a series of mathematical operations.\"\"\"\n",
    "    start_time = time.time()\n",
    "    for i in range(1000000):\n",
    "        x = i * 2 + 3\n",
    "    end_time = time.time()\n",
    "    print(f\"CPU performance test completed in {end_time - start_time:.2f} seconds.\")\n",
    "\n",
    "def test_memory_performance():\n",
    "    \"\"\"Test the memory performance by allocating and deallocating a large array.\"\"\"\n",
    "    start_time = time.time()\n",
    "    large_array = [0] * 100000000\n",
    "    del large_array\n",
    "    end_time = time.time()\n",
    "    print(f\"Memory performance test completed in {end_time - start_time:.2f} seconds.\")\n",
    "\n",
    "def test_disk_performance():\n",
    "    \"\"\"Test the disk performance by reading and writing a file.\"\"\"\n",
    "    file_path = \"test_file.txt\"\n",
    "    start_time = time.time()\n",
    "    with open(file_path, \"w\") as file:\n",
    "        file.write(\"This is a test file.\")\n",
    "    with open(file_path, \"r\") as file:\n",
    "        content = file.read()\n",
    "    os.remove(file_path)\n",
    "    end_time = time.time()\n",
    "    print(f\"Disk performance test completed in {end_time - start_time:.2f} seconds.\")\n",
    "\n",
    "def run_all_tests():\n",
    "    \"\"\"Run all performance tests in parallel.\"\"\"\n",
    "    cpu_process = multiprocessing.Process(target=test_cpu_performance)\n",
    "    memory_process = multiprocessing.Process(target=test_memory_performance)\n",
    "    disk_process = multiprocessing.Process(target=test_disk_performance)\n",
    "\n",
    "    cpu_process.start()\n",
    "    memory_process.start()\n",
    "    disk_process.start()\n",
    "\n",
    "    cpu_process.join()\n",
    "    memory_process.join()\n",
    "    disk_process.join()\n",
    "\n",
    "run_all_tests()"
   ]
  },
  {
   "cell_type": "code",
   "execution_count": null,
   "id": "5e3aaa86-3273-49a4-b683-73d13d162102",
   "metadata": {},
   "outputs": [],
   "source": []
  }
 ],
 "metadata": {
  "kernelspec": {
   "display_name": "Python 3 (ipykernel)",
   "language": "python",
   "name": "python3"
  },
  "language_info": {
   "codemirror_mode": {
    "name": "ipython",
    "version": 3
   },
   "file_extension": ".py",
   "mimetype": "text/x-python",
   "name": "python",
   "nbconvert_exporter": "python",
   "pygments_lexer": "ipython3",
   "version": "3.11.5"
  }
 },
 "nbformat": 4,
 "nbformat_minor": 5
}
