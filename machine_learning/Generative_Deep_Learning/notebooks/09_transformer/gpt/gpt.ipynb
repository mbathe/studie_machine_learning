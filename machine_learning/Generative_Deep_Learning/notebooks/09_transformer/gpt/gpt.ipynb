{
 "cells": [
  {
   "cell_type": "markdown",
   "id": "b076bd1a-b236-4fbc-953d-8295b25122ae",
   "metadata": {},
   "source": [
    "# 🚀 GPT"
   ]
  },
  {
   "cell_type": "code",
   "execution_count": null,
   "id": "ae475241-5c6d-487c-b3e1-7a72fd4abea6",
   "metadata": {},
   "outputs": [],
   "source": []
  },
  {
   "cell_type": "code",
   "execution_count": null,
   "id": "7c75f692-5758-45dc-bb00-dd28c69f4bbf",
   "metadata": {},
   "outputs": [],
   "source": []
  },
  {
   "cell_type": "markdown",
   "id": "4dca6836-0007-43f3-af65-d12ae1922c02",
   "metadata": {
    "tags": []
   },
   "source": [
    "In this notebook, we'll walk through the steps required to train your own GPT model on the wine review dataset"
   ]
  },
  {
   "cell_type": "markdown",
   "id": "3e6cb7c7-d3d5-4b12-b357-1f6118edffe0",
   "metadata": {},
   "source": [
    "The code is adapted from the excellent [GPT tutorial](https://keras.io/examples/generative/text_generation_with_miniature_gpt/) created by Apoorv Nandan available on the Keras website."
   ]
  },
  {
   "cell_type": "code",
   "execution_count": 1,
   "id": "73350761-bef2-4e96-b3ac-a158eabd2b65",
   "metadata": {
    "tags": []
   },
   "outputs": [],
   "source": [
    "%load_ext autoreload\n",
    "%autoreload 2\n",
    "import numpy as np\n",
    "import json\n",
    "import re\n",
    "import string\n",
    "from IPython.display import display, HTML\n",
    "\n",
    "import tensorflow as tf\n",
    "from tensorflow.keras import layers, models, losses, callbacks"
   ]
  },
  {
   "cell_type": "markdown",
   "id": "339e6268-ebd7-4feb-86db-1fe7abccdbe5",
   "metadata": {},
   "source": [
    "## 0. Parameters <a name=\"parameters\"></a>"
   ]
  },
  {
   "cell_type": "code",
   "execution_count": 2,
   "id": "2d8352af-343e-4c2e-8c91-95f8bac1c8a1",
   "metadata": {},
   "outputs": [],
   "source": [
    "VOCAB_SIZE = 10000\n",
    "MAX_LEN = 80\n",
    "EMBEDDING_DIM = 256\n",
    "KEY_DIM = 256\n",
    "N_HEADS = 2\n",
    "FEED_FORWARD_DIM = 256\n",
    "VALIDATION_SPLIT = 0.2\n",
    "SEED = 42\n",
    "LOAD_MODEL = False\n",
    "BATCH_SIZE = 32\n",
    "EPOCHS = 5"
   ]
  },
  {
   "cell_type": "markdown",
   "id": "b7716fac-0010-49b0-b98e-53be2259edde",
   "metadata": {},
   "source": [
    "## 1. Load the data <a name=\"load\"></a>"
   ]
  },
  {
   "cell_type": "code",
   "execution_count": 3,
   "id": "93cf6b0f-9667-4146-8911-763a8a2925d3",
   "metadata": {
    "tags": []
   },
   "outputs": [],
   "source": [
    "# Load the full dataset\n",
    "with open(\"winemag-data-130k-v2.json\") as json_data:\n",
    "    wine_data = json.load(json_data)"
   ]
  },
  {
   "cell_type": "code",
   "execution_count": 4,
   "id": "2db5c0fc-0d5f-42ab-ade1-57e594c416ec",
   "metadata": {
    "tags": []
   },
   "outputs": [
    {
     "data": {
      "text/plain": [
       "{'points': '87',\n",
       " 'title': 'Kirkland Signature 2011 Mountain Cuvée Cabernet Sauvignon (Napa Valley)',\n",
       " 'description': 'Soft, supple plum envelopes an oaky structure in this Cabernet, supported by 15% Merlot. Coffee and chocolate complete the picture, finishing strong at the end, resulting in a value-priced wine of attractive flavor and immediate accessibility.',\n",
       " 'taster_name': 'Virginie Boone',\n",
       " 'taster_twitter_handle': '@vboone',\n",
       " 'price': 19,\n",
       " 'designation': 'Mountain Cuvée',\n",
       " 'variety': 'Cabernet Sauvignon',\n",
       " 'region_1': 'Napa Valley',\n",
       " 'region_2': 'Napa',\n",
       " 'province': 'California',\n",
       " 'country': 'US',\n",
       " 'winery': 'Kirkland Signature'}"
      ]
     },
     "execution_count": 4,
     "metadata": {},
     "output_type": "execute_result"
    }
   ],
   "source": [
    "wine_data[10]"
   ]
  },
  {
   "cell_type": "code",
   "execution_count": 5,
   "id": "23a74eca-f1b7-4a46-9a1f-b5806a4ed361",
   "metadata": {
    "tags": []
   },
   "outputs": [],
   "source": [
    "# Filter the dataset\n",
    "filtered_data = [\n",
    "    \"wine review : \"\n",
    "    + x[\"country\"]\n",
    "    + \" : \"\n",
    "    + x[\"province\"]\n",
    "    + \" : \"\n",
    "    + x[\"variety\"]\n",
    "    + \" : \"\n",
    "    + x[\"description\"]\n",
    "    for x in wine_data\n",
    "    if x[\"country\"] is not None\n",
    "    and x[\"province\"] is not None\n",
    "    and x[\"variety\"] is not None\n",
    "    and x[\"description\"] is not None\n",
    "]"
   ]
  },
  {
   "cell_type": "code",
   "execution_count": 6,
   "id": "389c20de-0422-4c48-a7b4-6ee12a7bf0e2",
   "metadata": {
    "tags": []
   },
   "outputs": [
    {
     "name": "stdout",
     "output_type": "stream",
     "text": [
      "129907 recipes loaded\n"
     ]
    }
   ],
   "source": [
    "# Count the recipes\n",
    "n_wines = len(filtered_data)\n",
    "print(f\"{n_wines} recipes loaded\")"
   ]
  },
  {
   "cell_type": "code",
   "execution_count": 7,
   "id": "1b2e3cf7-e416-460e-874a-0dd9637bca36",
   "metadata": {},
   "outputs": [
    {
     "name": "stdout",
     "output_type": "stream",
     "text": [
      "wine review : US : California : Pinot Noir : Oak and earth intermingle around robust aromas of wet forest floor in this vineyard-designated Pinot that hails from a high-elevation site. Small in production, it offers intense, full-bodied raspberry and blackberry steeped in smoky spice and smooth texture.\n"
     ]
    }
   ],
   "source": [
    "example = filtered_data[25]\n",
    "print(example)"
   ]
  },
  {
   "cell_type": "markdown",
   "id": "3f871aaf-d873-41c7-8946-e4eef7ac17c1",
   "metadata": {},
   "source": [
    "## 2. Tokenize the data <a name=\"tokenize\"></a>"
   ]
  },
  {
   "cell_type": "code",
   "execution_count": 8,
   "id": "5b2064fb-5dcc-4657-b470-0928d10e2ddc",
   "metadata": {
    "tags": []
   },
   "outputs": [],
   "source": [
    "# Pad the punctuation, to treat them as separate 'words'\n",
    "def pad_punctuation(s):\n",
    "    s = re.sub(f\"([{string.punctuation}, '\\n'])\", r\" \\1 \", s)\n",
    "    s = re.sub(\" +\", \" \", s)\n",
    "    return s\n",
    "\n",
    "\n",
    "text_data = [pad_punctuation(x) for x in filtered_data]"
   ]
  },
  {
   "cell_type": "code",
   "execution_count": 9,
   "id": "b87d7c65-9a46-492a-a5c0-a043b0d252f3",
   "metadata": {},
   "outputs": [
    {
     "data": {
      "text/plain": [
       "'wine review : US : California : Pinot Noir : Oak and earth intermingle around robust aromas of wet forest floor in this vineyard - designated Pinot that hails from a high - elevation site . Small in production , it offers intense , full - bodied raspberry and blackberry steeped in smoky spice and smooth texture . '"
      ]
     },
     "execution_count": 9,
     "metadata": {},
     "output_type": "execute_result"
    }
   ],
   "source": [
    "# Display an example of a recipe\n",
    "example_data = text_data[25]\n",
    "example_data"
   ]
  },
  {
   "cell_type": "code",
   "execution_count": 13,
   "id": "9834f916-b21a-4104-acc9-f28d3bd7a8c1",
   "metadata": {
    "tags": []
   },
   "outputs": [],
   "source": [
    "# Convert to a Tensorflow Dataset\n",
    "text_ds = (\n",
    "    tf.data.Dataset.from_tensor_slices(text_data)\n",
    "    .batch(BATCH_SIZE)\n",
    "    .shuffle(1000)\n",
    ")"
   ]
  },
  {
   "cell_type": "code",
   "execution_count": 14,
   "id": "884c0bcb-0807-45a1-8f7e-a32f2c6fa4de",
   "metadata": {},
   "outputs": [],
   "source": [
    "# Create a vectorisation layer\n",
    "vectorize_layer = layers.TextVectorization(\n",
    "    standardize=\"lower\",\n",
    "    max_tokens=VOCAB_SIZE,\n",
    "    output_mode=\"int\",\n",
    "    output_sequence_length=MAX_LEN + 1,\n",
    ")"
   ]
  },
  {
   "cell_type": "code",
   "execution_count": 15,
   "id": "4d6dd34a-d905-497b-926a-405380ebcf98",
   "metadata": {},
   "outputs": [],
   "source": [
    "# Adapt the layer to the training set\n",
    "vectorize_layer.adapt(text_ds)\n",
    "vocab = vectorize_layer.get_vocabulary()"
   ]
  },
  {
   "cell_type": "code",
   "execution_count": 16,
   "id": "f6c1c7ce-3cf0-40d4-a3dc-ab7090f69f2f",
   "metadata": {},
   "outputs": [
    {
     "name": "stdout",
     "output_type": "stream",
     "text": [
      "0: \n",
      "1: [UNK]\n",
      "2: :\n",
      "3: ,\n",
      "4: .\n",
      "5: and\n",
      "6: the\n",
      "7: wine\n",
      "8: a\n",
      "9: of\n"
     ]
    }
   ],
   "source": [
    "# Display some token:word mappings\n",
    "for i, word in enumerate(vocab[:10]):\n",
    "    print(f\"{i}: {word}\")"
   ]
  },
  {
   "cell_type": "code",
   "execution_count": 15,
   "id": "1cc30186-7ec6-4eb6-b29a-65df6714d321",
   "metadata": {},
   "outputs": [
    {
     "name": "stdout",
     "output_type": "stream",
     "text": [
      "[   7   10    2   20    2   29    2   43   62    2   55    5  243 4145\n",
      "  453  634   26    9  497  499  667   17   12  142   14 2214   43   25\n",
      " 2484   32    8  223   14 2213  948    4  594   17  987    3   15   75\n",
      "  237    3   64   14   82   97    5   74 2633   17  198   49    5  125\n",
      "   77    4    0    0    0    0    0    0    0    0    0    0    0    0\n",
      "    0    0    0    0    0    0    0    0    0    0    0]\n"
     ]
    }
   ],
   "source": [
    "# Display the same example converted to ints\n",
    "example_tokenised = vectorize_layer(example_data)\n",
    "print(example_tokenised.numpy())"
   ]
  },
  {
   "cell_type": "markdown",
   "id": "8c195efb-84c6-4be0-a989-a7542188ad35",
   "metadata": {},
   "source": [
    "## 3. Create the Training Set <a name=\"create\"></a>"
   ]
  },
  {
   "cell_type": "code",
   "execution_count": 17,
   "id": "740294a1-1a6b-4c89-92f2-036d7d1b788b",
   "metadata": {},
   "outputs": [],
   "source": [
    "# Create the training set of recipes and the same text shifted by one word\n",
    "def prepare_inputs(text):\n",
    "    text = tf.expand_dims(text, -1)\n",
    "    tokenized_sentences = vectorize_layer(text)\n",
    "    x = tokenized_sentences[:, :-1]\n",
    "    y = tokenized_sentences[:, 1:]\n",
    "    ##print(x.numpy(),y.numpy())\n",
    "    return x, y\n",
    "\n",
    "\n",
    "train_ds = text_ds.map(prepare_inputs)"
   ]
  },
  {
   "cell_type": "code",
   "execution_count": 18,
   "id": "cad80ffb-4298-4249-86b4-9918d62534c5",
   "metadata": {},
   "outputs": [],
   "source": [
    "example_input_output = train_ds.take(1).get_single_element()"
   ]
  },
  {
   "cell_type": "code",
   "execution_count": 19,
   "id": "67ff7263-f62d-44c1-997b-1aa99a393521",
   "metadata": {},
   "outputs": [
    {
     "data": {
      "text/plain": [
       "<tf.Tensor: shape=(80,), dtype=int64, numpy=\n",
       "array([   7,   10,    2,   20,    2,   29,    2,   61,    2,  246,    5,\n",
       "         38,  202,  193,    5,  257,   69,   26,  275,   46,    8, 1528,\n",
       "         60,   17,   12,  251,    3,  185,  139,   83,    8,  108,    9,\n",
       "         86,    4,    6,   28,   13,   91,  653,    3,   11, 3376,    5,\n",
       "         95,   16,  415,   47,    8,  198,  110,    4,    0,    0,    0,\n",
       "          0,    0,    0,    0,    0,    0,    0,    0,    0,    0,    0,\n",
       "          0,    0,    0,    0,    0,    0,    0,    0,    0,    0,    0,\n",
       "          0,    0,    0], dtype=int64)>"
      ]
     },
     "execution_count": 19,
     "metadata": {},
     "output_type": "execute_result"
    }
   ],
   "source": [
    "# Example Input\n",
    "example_input_output[0][0]"
   ]
  },
  {
   "cell_type": "code",
   "execution_count": 19,
   "id": "ef2e2cad-414c-4e6d-a2ac-6b9598f9dd01",
   "metadata": {},
   "outputs": [
    {
     "data": {
      "text/plain": [
       "<tf.Tensor: shape=(80,), dtype=int64, numpy=\n",
       "array([  10,    2,  152,    2,  723,    2,  230,   24,    2,   17,   12,\n",
       "         27,    9,  500,    5, 3549,    3,  347,  294, 2346,   24,   70,\n",
       "          3,   68,   34,    5,   56,   14, 4648,   30,    4,   11,  416,\n",
       "          1,   87,    3,   93,    1,    7,   13,  177,   19,   35,    4,\n",
       "          0,    0,    0,    0,    0,    0,    0,    0,    0,    0,    0,\n",
       "          0,    0,    0,    0,    0,    0,    0,    0,    0,    0,    0,\n",
       "          0,    0,    0,    0,    0,    0,    0,    0,    0,    0,    0,\n",
       "          0,    0,    0], dtype=int64)>"
      ]
     },
     "execution_count": 19,
     "metadata": {},
     "output_type": "execute_result"
    }
   ],
   "source": [
    "# Example Output (shifted by one token)\n",
    "example_input_output[1][0]"
   ]
  },
  {
   "cell_type": "markdown",
   "id": "aff50401-3abe-4c10-bba8-b35bc13ad7d5",
   "metadata": {
    "tags": []
   },
   "source": [
    "## 5. Create the causal attention mask function <a name=\"causal\"></a>"
   ]
  },
  {
   "cell_type": "code",
   "execution_count": 20,
   "id": "554a4184-61c2-4eb7-a063-d965586a8188",
   "metadata": {},
   "outputs": [
    {
     "data": {
      "text/plain": [
       "array([[1, 1, 1, 1, 1, 1, 1, 1, 1, 1],\n",
       "       [0, 1, 1, 1, 1, 1, 1, 1, 1, 1],\n",
       "       [0, 0, 1, 1, 1, 1, 1, 1, 1, 1],\n",
       "       [0, 0, 0, 1, 1, 1, 1, 1, 1, 1],\n",
       "       [0, 0, 0, 0, 1, 1, 1, 1, 1, 1],\n",
       "       [0, 0, 0, 0, 0, 1, 1, 1, 1, 1],\n",
       "       [0, 0, 0, 0, 0, 0, 1, 1, 1, 1],\n",
       "       [0, 0, 0, 0, 0, 0, 0, 1, 1, 1],\n",
       "       [0, 0, 0, 0, 0, 0, 0, 0, 1, 1],\n",
       "       [0, 0, 0, 0, 0, 0, 0, 0, 0, 1]])"
      ]
     },
     "execution_count": 20,
     "metadata": {},
     "output_type": "execute_result"
    }
   ],
   "source": [
    "def causal_attention_mask(batch_size, n_dest, n_src, dtype):\n",
    "    i = tf.range(n_dest)[:, None]\n",
    "    j = tf.range(n_src)\n",
    "    m = i >= j - n_src + n_dest\n",
    "    mask = tf.cast(m, dtype)\n",
    "    mask = tf.reshape(mask, [1, n_dest, n_src])\n",
    "    mult = tf.concat(\n",
    "        [tf.expand_dims(batch_size, -1), tf.constant([1, 1], dtype=tf.int32)], 0\n",
    "    )\n",
    "    return tf.tile(mask, mult)\n",
    "\n",
    "\n",
    "np.transpose(causal_attention_mask(1, 10, 10, dtype=tf.int32)[0])"
   ]
  },
  {
   "cell_type": "markdown",
   "id": "3501dbad-0860-40ad-b7d6-47950e37858f",
   "metadata": {},
   "source": [
    "## 6. Create a Transformer Block layer <a name=\"transformer\"></a>"
   ]
  },
  {
   "cell_type": "code",
   "execution_count": 21,
   "id": "5285a1cb-fce1-46b1-b088-b596002fa9ae",
   "metadata": {},
   "outputs": [],
   "source": [
    "class TransformerBlock(layers.Layer):\n",
    "    def __init__(self, num_heads, key_dim, embed_dim, ff_dim, dropout_rate=0.1):\n",
    "        super(TransformerBlock, self).__init__()\n",
    "        self.num_heads = num_heads\n",
    "        self.key_dim = key_dim\n",
    "        self.embed_dim = embed_dim\n",
    "        self.ff_dim = ff_dim\n",
    "        self.dropout_rate = dropout_rate\n",
    "        self.attn = layers.MultiHeadAttention(\n",
    "            num_heads, key_dim, output_shape=embed_dim\n",
    "        )\n",
    "        self.dropout_1 = layers.Dropout(self.dropout_rate)\n",
    "        self.ln_1 = layers.LayerNormalization(epsilon=1e-6)\n",
    "        self.ffn_1 = layers.Dense(self.ff_dim, activation=\"relu\")\n",
    "        self.ffn_2 = layers.Dense(self.embed_dim)\n",
    "        self.dropout_2 = layers.Dropout(self.dropout_rate)\n",
    "        self.ln_2 = layers.LayerNormalization(epsilon=1e-6)\n",
    "\n",
    "    def call(self, inputs):\n",
    "        input_shape = tf.shape(inputs)\n",
    "        batch_size = input_shape[0]\n",
    "        seq_len = input_shape[1]\n",
    "        causal_mask = causal_attention_mask(\n",
    "            batch_size, seq_len, seq_len, tf.bool\n",
    "        )\n",
    "        attention_output, attention_scores = self.attn(\n",
    "            inputs,\n",
    "            inputs,\n",
    "            attention_mask=causal_mask,\n",
    "            return_attention_scores=True,\n",
    "        )\n",
    "        attention_output = self.dropout_1(attention_output)\n",
    "        out1 = self.ln_1(inputs + attention_output)\n",
    "        ffn_1 = self.ffn_1(out1)\n",
    "        ffn_2 = self.ffn_2(ffn_1)\n",
    "        ffn_output = self.dropout_2(ffn_2)\n",
    "        return (self.ln_2(out1 + ffn_output), attention_scores)\n",
    "\n",
    "    def get_config(self):\n",
    "        config = super().get_config()\n",
    "        config.update(\n",
    "            {\n",
    "                \"key_dim\": self.key_dim,\n",
    "                \"embed_dim\": self.embed_dim,\n",
    "                \"num_heads\": self.num_heads,\n",
    "                \"ff_dim\": self.ff_dim,\n",
    "                \"dropout_rate\": self.dropout_rate,\n",
    "            }\n",
    "        )\n",
    "        return config"
   ]
  },
  {
   "cell_type": "markdown",
   "id": "076a6be0-9796-4974-9bcd-6ebbcfe7514e",
   "metadata": {
    "tags": []
   },
   "source": [
    "## 7. Create the Token and Position Embedding <a name=\"embedder\"></a>"
   ]
  },
  {
   "cell_type": "code",
   "execution_count": 22,
   "id": "fdf5cb25-88ae-4026-9e21-c1e6b5094a2c",
   "metadata": {},
   "outputs": [],
   "source": [
    "class TokenAndPositionEmbedding(layers.Layer):\n",
    "    def __init__(self, max_len, vocab_size, embed_dim):\n",
    "        super(TokenAndPositionEmbedding, self).__init__()\n",
    "        self.max_len = max_len\n",
    "        self.vocab_size = vocab_size\n",
    "        self.embed_dim = embed_dim\n",
    "        self.token_emb = layers.Embedding(\n",
    "            input_dim=vocab_size, output_dim=embed_dim\n",
    "        )\n",
    "        self.pos_emb = layers.Embedding(input_dim=max_len, output_dim=embed_dim)\n",
    "\n",
    "    def call(self, x):\n",
    "        maxlen = tf.shape(x)[-1]\n",
    "        positions = tf.range(start=0, limit=maxlen, delta=1)\n",
    "        positions = self.pos_emb(positions)\n",
    "        x = self.token_emb(x)\n",
    "        return x + positions\n",
    "\n",
    "    def get_config(self):\n",
    "        config = super().get_config()\n",
    "        config.update(\n",
    "            {\n",
    "                \"max_len\": self.max_len,\n",
    "                \"vocab_size\": self.vocab_size,\n",
    "                \"embed_dim\": self.embed_dim,\n",
    "            }\n",
    "        )\n",
    "        return config"
   ]
  },
  {
   "cell_type": "markdown",
   "id": "aac2e2d4-5980-47e3-b5b0-6c41c0c2d152",
   "metadata": {},
   "source": [
    "## 8. Build the Transformer model <a name=\"transformer_decoder\"></a>"
   ]
  },
  {
   "cell_type": "code",
   "execution_count": 23,
   "id": "8c57596e-e17d-4959-b6e8-7581b0bace3a",
   "metadata": {},
   "outputs": [
    {
     "name": "stdout",
     "output_type": "stream",
     "text": [
      "WARNING:tensorflow:From C:\\Users\\ASUS\\AppData\\Local\\Programs\\Python\\Python311\\Lib\\site-packages\\keras\\src\\backend\\tensorflow\\core.py:184: The name tf.placeholder is deprecated. Please use tf.compat.v1.placeholder instead.\n",
      "\n"
     ]
    }
   ],
   "source": [
    "inputs = layers.Input(shape=(None,), dtype=tf.int32)\n",
    "x = TokenAndPositionEmbedding(MAX_LEN, VOCAB_SIZE, EMBEDDING_DIM)(inputs)\n",
    "x, attention_scores = TransformerBlock(\n",
    "    N_HEADS, KEY_DIM, EMBEDDING_DIM, FEED_FORWARD_DIM\n",
    ")(x)\n",
    "outputs = layers.Dense(VOCAB_SIZE, activation=\"softmax\")(x)\n",
    "gpt = models.Model(inputs=inputs, outputs=[outputs, attention_scores])\n",
    "gpt.compile(\"adam\", loss=[losses.SparseCategoricalCrossentropy(), None])"
   ]
  },
  {
   "cell_type": "code",
   "execution_count": 24,
   "id": "1a1c3b0f-3382-444d-bb04-bae143ae5d61",
   "metadata": {},
   "outputs": [
    {
     "data": {
      "text/html": [
       "<pre style=\"white-space:pre;overflow-x:auto;line-height:normal;font-family:Menlo,'DejaVu Sans Mono',consolas,'Courier New',monospace\"><span style=\"font-weight: bold\">Model: \"functional_1\"</span>\n",
       "</pre>\n"
      ],
      "text/plain": [
       "\u001b[1mModel: \"functional_1\"\u001b[0m\n"
      ]
     },
     "metadata": {},
     "output_type": "display_data"
    },
    {
     "data": {
      "text/html": [
       "<pre style=\"white-space:pre;overflow-x:auto;line-height:normal;font-family:Menlo,'DejaVu Sans Mono',consolas,'Courier New',monospace\">┏━━━━━━━━━━━━━━━━━━━━━━━━━━━━━━━━━━━━━━┳━━━━━━━━━━━━━━━━━━━━━━━━━━━━━┳━━━━━━━━━━━━━━━━━┓\n",
       "┃<span style=\"font-weight: bold\"> Layer (type)                         </span>┃<span style=\"font-weight: bold\"> Output Shape                </span>┃<span style=\"font-weight: bold\">         Param # </span>┃\n",
       "┡━━━━━━━━━━━━━━━━━━━━━━━━━━━━━━━━━━━━━━╇━━━━━━━━━━━━━━━━━━━━━━━━━━━━━╇━━━━━━━━━━━━━━━━━┩\n",
       "│ input_layer (<span style=\"color: #0087ff; text-decoration-color: #0087ff\">InputLayer</span>)             │ (<span style=\"color: #00d7ff; text-decoration-color: #00d7ff\">None</span>, <span style=\"color: #00d7ff; text-decoration-color: #00d7ff\">None</span>)                │               <span style=\"color: #00af00; text-decoration-color: #00af00\">0</span> │\n",
       "├──────────────────────────────────────┼─────────────────────────────┼─────────────────┤\n",
       "│ token_and_position_embedding         │ (<span style=\"color: #00d7ff; text-decoration-color: #00d7ff\">None</span>, <span style=\"color: #00d7ff; text-decoration-color: #00d7ff\">None</span>, <span style=\"color: #00af00; text-decoration-color: #00af00\">256</span>)           │       <span style=\"color: #00af00; text-decoration-color: #00af00\">2,580,480</span> │\n",
       "│ (<span style=\"color: #0087ff; text-decoration-color: #0087ff\">TokenAndPositionEmbedding</span>)          │                             │                 │\n",
       "├──────────────────────────────────────┼─────────────────────────────┼─────────────────┤\n",
       "│ transformer_block (<span style=\"color: #0087ff; text-decoration-color: #0087ff\">TransformerBlock</span>) │ [(<span style=\"color: #00d7ff; text-decoration-color: #00d7ff\">None</span>, <span style=\"color: #00d7ff; text-decoration-color: #00d7ff\">None</span>, <span style=\"color: #00af00; text-decoration-color: #00af00\">256</span>), (<span style=\"color: #00d7ff; text-decoration-color: #00d7ff\">None</span>,  │         <span style=\"color: #00af00; text-decoration-color: #00af00\">658,688</span> │\n",
       "│                                      │ <span style=\"color: #00af00; text-decoration-color: #00af00\">2</span>, <span style=\"color: #00d7ff; text-decoration-color: #00d7ff\">None</span>, <span style=\"color: #00d7ff; text-decoration-color: #00d7ff\">None</span>)]             │                 │\n",
       "├──────────────────────────────────────┼─────────────────────────────┼─────────────────┤\n",
       "│ dense_2 (<span style=\"color: #0087ff; text-decoration-color: #0087ff\">Dense</span>)                      │ (<span style=\"color: #00d7ff; text-decoration-color: #00d7ff\">None</span>, <span style=\"color: #00d7ff; text-decoration-color: #00d7ff\">None</span>, <span style=\"color: #00af00; text-decoration-color: #00af00\">10000</span>)         │       <span style=\"color: #00af00; text-decoration-color: #00af00\">2,570,000</span> │\n",
       "└──────────────────────────────────────┴─────────────────────────────┴─────────────────┘\n",
       "</pre>\n"
      ],
      "text/plain": [
       "┏━━━━━━━━━━━━━━━━━━━━━━━━━━━━━━━━━━━━━━┳━━━━━━━━━━━━━━━━━━━━━━━━━━━━━┳━━━━━━━━━━━━━━━━━┓\n",
       "┃\u001b[1m \u001b[0m\u001b[1mLayer (type)                        \u001b[0m\u001b[1m \u001b[0m┃\u001b[1m \u001b[0m\u001b[1mOutput Shape               \u001b[0m\u001b[1m \u001b[0m┃\u001b[1m \u001b[0m\u001b[1m        Param #\u001b[0m\u001b[1m \u001b[0m┃\n",
       "┡━━━━━━━━━━━━━━━━━━━━━━━━━━━━━━━━━━━━━━╇━━━━━━━━━━━━━━━━━━━━━━━━━━━━━╇━━━━━━━━━━━━━━━━━┩\n",
       "│ input_layer (\u001b[38;5;33mInputLayer\u001b[0m)             │ (\u001b[38;5;45mNone\u001b[0m, \u001b[38;5;45mNone\u001b[0m)                │               \u001b[38;5;34m0\u001b[0m │\n",
       "├──────────────────────────────────────┼─────────────────────────────┼─────────────────┤\n",
       "│ token_and_position_embedding         │ (\u001b[38;5;45mNone\u001b[0m, \u001b[38;5;45mNone\u001b[0m, \u001b[38;5;34m256\u001b[0m)           │       \u001b[38;5;34m2,580,480\u001b[0m │\n",
       "│ (\u001b[38;5;33mTokenAndPositionEmbedding\u001b[0m)          │                             │                 │\n",
       "├──────────────────────────────────────┼─────────────────────────────┼─────────────────┤\n",
       "│ transformer_block (\u001b[38;5;33mTransformerBlock\u001b[0m) │ [(\u001b[38;5;45mNone\u001b[0m, \u001b[38;5;45mNone\u001b[0m, \u001b[38;5;34m256\u001b[0m), (\u001b[38;5;45mNone\u001b[0m,  │         \u001b[38;5;34m658,688\u001b[0m │\n",
       "│                                      │ \u001b[38;5;34m2\u001b[0m, \u001b[38;5;45mNone\u001b[0m, \u001b[38;5;45mNone\u001b[0m)]             │                 │\n",
       "├──────────────────────────────────────┼─────────────────────────────┼─────────────────┤\n",
       "│ dense_2 (\u001b[38;5;33mDense\u001b[0m)                      │ (\u001b[38;5;45mNone\u001b[0m, \u001b[38;5;45mNone\u001b[0m, \u001b[38;5;34m10000\u001b[0m)         │       \u001b[38;5;34m2,570,000\u001b[0m │\n",
       "└──────────────────────────────────────┴─────────────────────────────┴─────────────────┘\n"
      ]
     },
     "metadata": {},
     "output_type": "display_data"
    },
    {
     "data": {
      "text/html": [
       "<pre style=\"white-space:pre;overflow-x:auto;line-height:normal;font-family:Menlo,'DejaVu Sans Mono',consolas,'Courier New',monospace\"><span style=\"font-weight: bold\"> Total params: </span><span style=\"color: #00af00; text-decoration-color: #00af00\">5,809,168</span> (22.16 MB)\n",
       "</pre>\n"
      ],
      "text/plain": [
       "\u001b[1m Total params: \u001b[0m\u001b[38;5;34m5,809,168\u001b[0m (22.16 MB)\n"
      ]
     },
     "metadata": {},
     "output_type": "display_data"
    },
    {
     "data": {
      "text/html": [
       "<pre style=\"white-space:pre;overflow-x:auto;line-height:normal;font-family:Menlo,'DejaVu Sans Mono',consolas,'Courier New',monospace\"><span style=\"font-weight: bold\"> Trainable params: </span><span style=\"color: #00af00; text-decoration-color: #00af00\">5,809,168</span> (22.16 MB)\n",
       "</pre>\n"
      ],
      "text/plain": [
       "\u001b[1m Trainable params: \u001b[0m\u001b[38;5;34m5,809,168\u001b[0m (22.16 MB)\n"
      ]
     },
     "metadata": {},
     "output_type": "display_data"
    },
    {
     "data": {
      "text/html": [
       "<pre style=\"white-space:pre;overflow-x:auto;line-height:normal;font-family:Menlo,'DejaVu Sans Mono',consolas,'Courier New',monospace\"><span style=\"font-weight: bold\"> Non-trainable params: </span><span style=\"color: #00af00; text-decoration-color: #00af00\">0</span> (0.00 B)\n",
       "</pre>\n"
      ],
      "text/plain": [
       "\u001b[1m Non-trainable params: \u001b[0m\u001b[38;5;34m0\u001b[0m (0.00 B)\n"
      ]
     },
     "metadata": {},
     "output_type": "display_data"
    }
   ],
   "source": [
    "gpt.summary()"
   ]
  },
  {
   "cell_type": "code",
   "execution_count": 25,
   "id": "800a3c6e-fb11-4792-b6bc-9a43a7c977ad",
   "metadata": {
    "tags": []
   },
   "outputs": [],
   "source": [
    "if LOAD_MODEL:\n",
    "    # model.load_weights('./models/model')\n",
    "    gpt = models.load_model(\"./models/gpt\", compile=True)"
   ]
  },
  {
   "cell_type": "markdown",
   "id": "35b14665-4359-447b-be58-3fd58ba69084",
   "metadata": {},
   "source": [
    "## 9. Train the Transformer <a name=\"train\"></a>"
   ]
  },
  {
   "cell_type": "code",
   "execution_count": 26,
   "id": "3ddcff5f-829d-4449-99d2-9a3cb68f7d72",
   "metadata": {},
   "outputs": [],
   "source": [
    "# Create a TextGenerator checkpoint\n",
    "class TextGenerator(callbacks.Callback):\n",
    "    def __init__(self, index_to_word, top_k=10):\n",
    "        self.index_to_word = index_to_word\n",
    "        self.word_to_index = {\n",
    "            word: index for index, word in enumerate(index_to_word)\n",
    "        }\n",
    "\n",
    "    def sample_from(self, probs, temperature):\n",
    "        probs = probs ** (1 / temperature)\n",
    "        probs = probs / np.sum(probs)\n",
    "        return np.random.choice(len(probs), p=probs), probs\n",
    "\n",
    "    def generate(self, start_prompt, max_tokens, temperature):\n",
    "        start_tokens = [\n",
    "            self.word_to_index.get(x, 1) for x in start_prompt.split()\n",
    "        ]\n",
    "        sample_token = None\n",
    "        info = []\n",
    "        while len(start_tokens) < max_tokens and sample_token != 0:\n",
    "            x = np.array([start_tokens])\n",
    "            y, att = self.model.predict(x, verbose=0)\n",
    "            sample_token, probs = self.sample_from(y[0][-1], temperature)\n",
    "            info.append(\n",
    "                {\n",
    "                    \"prompt\": start_prompt,\n",
    "                    \"word_probs\": probs,\n",
    "                    \"atts\": att[0, :, -1, :],\n",
    "                }\n",
    "            )\n",
    "            start_tokens.append(sample_token)\n",
    "            start_prompt = start_prompt + \" \" + self.index_to_word[sample_token]\n",
    "        print(f\"\\ngenerated text:\\n{start_prompt}\\n\")\n",
    "        return info\n",
    "\n",
    "    def on_epoch_end(self, epoch, logs=None):\n",
    "        self.generate(\"wine review\", max_tokens=80, temperature=1.0)"
   ]
  },
  {
   "cell_type": "code",
   "execution_count": 27,
   "id": "349865fe-ffbe-450e-97be-043ae1740e78",
   "metadata": {},
   "outputs": [],
   "source": [
    "# Create a model save checkpoint\n",
    "model_checkpoint_callback = callbacks.ModelCheckpoint(\n",
    "    filepath=\"./checkpoint/checkpoint.ckpt.weights.h5\",\n",
    "    save_weights_only=True,\n",
    "    save_freq=\"epoch\",\n",
    "    verbose=0,\n",
    ")\n",
    "\n",
    "tensorboard_callback = callbacks.TensorBoard(log_dir=\"./logs\")\n",
    "\n",
    "# Tokenize starting prompt\n",
    "text_generator = TextGenerator(vocab)"
   ]
  },
  {
   "cell_type": "code",
   "execution_count": 28,
   "id": "461c2b3e-b5ae-4def-8bd9-e7bab8c63d8e",
   "metadata": {
    "tags": []
   },
   "outputs": [
    {
     "name": "stdout",
     "output_type": "stream",
     "text": [
      "Epoch 1/5\n",
      "\u001b[1m4060/4060\u001b[0m \u001b[32m━━━━━━━━━━━━━━━━━━━━\u001b[0m\u001b[37m\u001b[0m \u001b[1m0s\u001b[0m 248ms/step - loss: 2.5944\n",
      "generated text:\n",
      "wine review : france : southwest france : tannat : a soft , spicy and sweet wine with some acidity , it feels lightly peppery and ripe and smooth . blueberry flavors are just right to their heady . \n",
      "\n",
      "\u001b[1m4060/4060\u001b[0m \u001b[32m━━━━━━━━━━━━━━━━━━━━\u001b[0m\u001b[37m\u001b[0m \u001b[1m1017s\u001b[0m 249ms/step - loss: 2.5943\n",
      "Epoch 2/5\n",
      "\u001b[1m4060/4060\u001b[0m \u001b[32m━━━━━━━━━━━━━━━━━━━━\u001b[0m\u001b[37m\u001b[0m \u001b[1m0s\u001b[0m 153ms/step - loss: 1.9799\n",
      "generated text:\n",
      "wine review : france : bordeaux : bordeaux - style red blend : [UNK] reserve [UNK] captures the concentrated , with tannins and this wine that ' s full of structured structure which is backed with a fine , tannic core . \n",
      "\n",
      "\u001b[1m4060/4060\u001b[0m \u001b[32m━━━━━━━━━━━━━━━━━━━━\u001b[0m\u001b[37m\u001b[0m \u001b[1m624s\u001b[0m 154ms/step - loss: 1.9799\n",
      "Epoch 3/5\n",
      "\u001b[1m4060/4060\u001b[0m \u001b[32m━━━━━━━━━━━━━━━━━━━━\u001b[0m\u001b[37m\u001b[0m \u001b[1m0s\u001b[0m 154ms/step - loss: 1.8979\n",
      "generated text:\n",
      "wine review : us : california : bordeaux - style red blend : 90 % cabernet franc and 10 % merlot , this is the opposite of the ripe red fruit and oak . the tannins are here , ripe and powerful but with the balance [UNK] than fruity , it ' s layered , with anise and chocolate flavors that slide into a softly tannic finish . \n",
      "\n",
      "\u001b[1m4060/4060\u001b[0m \u001b[32m━━━━━━━━━━━━━━━━━━━━\u001b[0m\u001b[37m\u001b[0m \u001b[1m628s\u001b[0m 155ms/step - loss: 1.8979\n",
      "Epoch 4/5\n",
      "\u001b[1m4060/4060\u001b[0m \u001b[32m━━━━━━━━━━━━━━━━━━━━\u001b[0m\u001b[37m\u001b[0m \u001b[1m0s\u001b[0m 156ms/step - loss: 1.8570\n",
      "generated text:\n",
      "wine review : spain : catalonia : sparkling blend : elegant and broad on the nose , this offers aromas of copper penny , apple , butterscotch and apple cider flavors along with elegance on the zesty , crisp acidity . a full - bodied cava despite its weight , while the wine finishes hard and acidic . \n",
      "\n",
      "\u001b[1m4060/4060\u001b[0m \u001b[32m━━━━━━━━━━━━━━━━━━━━\u001b[0m\u001b[37m\u001b[0m \u001b[1m636s\u001b[0m 157ms/step - loss: 1.8570\n",
      "Epoch 5/5\n",
      "\u001b[1m4060/4060\u001b[0m \u001b[32m━━━━━━━━━━━━━━━━━━━━\u001b[0m\u001b[37m\u001b[0m \u001b[1m0s\u001b[0m 154ms/step - loss: 1.8219\n",
      "generated text:\n",
      "wine review : us : washington : bordeaux - style red blend : made by the rest of 48 % merlot , 40 % cabernet sauvignon and 30 % cabernet franc , with the grape and other than the winery ' s edition is the top and promise that the finish . \n",
      "\n",
      "\u001b[1m4060/4060\u001b[0m \u001b[32m━━━━━━━━━━━━━━━━━━━━\u001b[0m\u001b[37m\u001b[0m \u001b[1m628s\u001b[0m 155ms/step - loss: 1.8219\n"
     ]
    },
    {
     "data": {
      "text/plain": [
       "<keras.src.callbacks.history.History at 0x1ab30d10bd0>"
      ]
     },
     "execution_count": 28,
     "metadata": {},
     "output_type": "execute_result"
    }
   ],
   "source": [
    "gpt.fit(\n",
    "    train_ds,\n",
    "    epochs=EPOCHS,\n",
    "    callbacks=[model_checkpoint_callback, tensorboard_callback, text_generator],\n",
    ")"
   ]
  },
  {
   "cell_type": "code",
   "execution_count": 30,
   "id": "369bde44-2e39-4bc6-8549-a3a27ecce55c",
   "metadata": {
    "tags": []
   },
   "outputs": [],
   "source": [
    "# Save the final model\n",
    "gpt.save(\"./models/gpt.keras\")"
   ]
  },
  {
   "cell_type": "markdown",
   "id": "d64e02d2-84dc-40c8-8446-40c09adf1e20",
   "metadata": {},
   "source": [
    "# 3. Generate text using the Transformer"
   ]
  },
  {
   "cell_type": "code",
   "execution_count": 31,
   "id": "4ad23adb-3ec9-4e9a-9a59-b9f9bafca649",
   "metadata": {},
   "outputs": [],
   "source": [
    "def print_probs(info, vocab, top_k=5):\n",
    "    for i in info:\n",
    "        highlighted_text = []\n",
    "        for word, att_score in zip(\n",
    "            i[\"prompt\"].split(), np.mean(i[\"atts\"], axis=0)\n",
    "        ):\n",
    "            highlighted_text.append(\n",
    "                '<span style=\"background-color:rgba(135,206,250,'\n",
    "                + str(att_score / max(np.mean(i[\"atts\"], axis=0)))\n",
    "                + ');\">'\n",
    "                + word\n",
    "                + \"</span>\"\n",
    "            )\n",
    "        highlighted_text = \" \".join(highlighted_text)\n",
    "        display(HTML(highlighted_text))\n",
    "\n",
    "        word_probs = i[\"word_probs\"]\n",
    "        p_sorted = np.sort(word_probs)[::-1][:top_k]\n",
    "        i_sorted = np.argsort(word_probs)[::-1][:top_k]\n",
    "        for p, i in zip(p_sorted, i_sorted):\n",
    "            print(f\"{vocab[i]}:   \\t{np.round(100*p,2)}%\")\n",
    "        print(\"--------\\n\")"
   ]
  },
  {
   "cell_type": "code",
   "execution_count": 32,
   "id": "3cf25578-d47c-4b26-8252-fcdf2316a4ac",
   "metadata": {},
   "outputs": [
    {
     "name": "stdout",
     "output_type": "stream",
     "text": [
      "\n",
      "generated text:\n",
      "wine review : us : washington : viognier : this is a peach - pit , melon and lemon candy aromas . lively and pleasing more pungent , with breathing time and shows pretty acid . melony fruit gains character with a pleasantly herbal twist , finishing in a swirl of orange . \n",
      "\n"
     ]
    }
   ],
   "source": [
    "info = text_generator.generate(\n",
    "    \"wine review : us\", max_tokens=80, temperature=1.0\n",
    ")"
   ]
  },
  {
   "cell_type": "code",
   "execution_count": 33,
   "id": "4ae2da8e-9b7c-4b71-b37b-021115b3d7ea",
   "metadata": {},
   "outputs": [
    {
     "name": "stdout",
     "output_type": "stream",
     "text": [
      "\n",
      "generated text:\n",
      "wine review : italy : veneto : corvina , rondinella , molinara : this ripasso opens with a dark garnet color and ruby in the glass . it has a deep ruby color and a ruby appearance that shows a fresh and clean finish . \n",
      "\n"
     ]
    }
   ],
   "source": [
    "info = text_generator.generate(\n",
    "    \"wine review : italy\", max_tokens=80, temperature=0.5\n",
    ")"
   ]
  },
  {
   "cell_type": "code",
   "execution_count": 34,
   "id": "5cae6d5d-263d-4455-b96c-f315cbe284ee",
   "metadata": {},
   "outputs": [
    {
     "name": "stdout",
     "output_type": "stream",
     "text": [
      "\n",
      "generated text:\n",
      "wine review : germany : rheinhessen : riesling : a touch of mineral clings to the palate of this dry , medium - bodied riesling . it ' s a bit lean , but it ' s a tad lean in style with a lemony , tart finish . \n",
      "\n"
     ]
    },
    {
     "data": {
      "text/html": [
       "<span style=\"background-color:rgba(135,206,250,0.71712536);\">wine</span> <span style=\"background-color:rgba(135,206,250,1.0);\">review</span> <span style=\"background-color:rgba(135,206,250,0.26719087);\">:</span> <span style=\"background-color:rgba(135,206,250,0.20427233);\">germany</span>"
      ],
      "text/plain": [
       "<IPython.core.display.HTML object>"
      ]
     },
     "metadata": {},
     "output_type": "display_data"
    },
    {
     "name": "stdout",
     "output_type": "stream",
     "text": [
      "::   \t100.0%\n",
      "-:   \t0.0%\n",
      "zealand:   \t0.0%\n",
      "grosso:   \t0.0%\n",
      ",:   \t0.0%\n",
      "--------\n",
      "\n"
     ]
    },
    {
     "data": {
      "text/html": [
       "<span style=\"background-color:rgba(135,206,250,0.33055675);\">wine</span> <span style=\"background-color:rgba(135,206,250,0.4239913);\">review</span> <span style=\"background-color:rgba(135,206,250,0.23533437);\">:</span> <span style=\"background-color:rgba(135,206,250,1.0);\">germany</span> <span style=\"background-color:rgba(135,206,250,0.12958065);\">:</span>"
      ],
      "text/plain": [
       "<IPython.core.display.HTML object>"
      ]
     },
     "metadata": {},
     "output_type": "display_data"
    },
    {
     "name": "stdout",
     "output_type": "stream",
     "text": [
      "mosel:   \t67.99%\n",
      "rheinhessen:   \t12.44%\n",
      "nahe:   \t9.24%\n",
      "rheingau:   \t8.94%\n",
      "baden:   \t0.72%\n",
      "--------\n",
      "\n"
     ]
    },
    {
     "data": {
      "text/html": [
       "<span style=\"background-color:rgba(135,206,250,0.6006519);\">wine</span> <span style=\"background-color:rgba(135,206,250,1.0);\">review</span> <span style=\"background-color:rgba(135,206,250,0.2429478);\">:</span> <span style=\"background-color:rgba(135,206,250,0.19458109);\">germany</span> <span style=\"background-color:rgba(135,206,250,0.26985598);\">:</span> <span style=\"background-color:rgba(135,206,250,0.14636351);\">rheinhessen</span>"
      ],
      "text/plain": [
       "<IPython.core.display.HTML object>"
      ]
     },
     "metadata": {},
     "output_type": "display_data"
    },
    {
     "name": "stdout",
     "output_type": "stream",
     "text": [
      "::   \t100.0%\n",
      "other:   \t0.0%\n",
      "-:   \t0.0%\n",
      "valley:   \t0.0%\n",
      "[UNK]:   \t0.0%\n",
      "--------\n",
      "\n"
     ]
    },
    {
     "data": {
      "text/html": [
       "<span style=\"background-color:rgba(135,206,250,0.5680156);\">wine</span> <span style=\"background-color:rgba(135,206,250,0.659189);\">review</span> <span style=\"background-color:rgba(135,206,250,0.1852313);\">:</span> <span style=\"background-color:rgba(135,206,250,0.8079305);\">germany</span> <span style=\"background-color:rgba(135,206,250,0.16136636);\">:</span> <span style=\"background-color:rgba(135,206,250,1.0);\">rheinhessen</span> <span style=\"background-color:rgba(135,206,250,0.24068773);\">:</span>"
      ],
      "text/plain": [
       "<IPython.core.display.HTML object>"
      ]
     },
     "metadata": {},
     "output_type": "display_data"
    },
    {
     "name": "stdout",
     "output_type": "stream",
     "text": [
      "riesling:   \t98.19%\n",
      "dornfelder:   \t0.54%\n",
      "pinot:   \t0.45%\n",
      "spätburgunder:   \t0.4%\n",
      "weissburgunder:   \t0.21%\n",
      "--------\n",
      "\n"
     ]
    },
    {
     "data": {
      "text/html": [
       "<span style=\"background-color:rgba(135,206,250,0.4410579);\">wine</span> <span style=\"background-color:rgba(135,206,250,1.0);\">review</span> <span style=\"background-color:rgba(135,206,250,0.0994316);\">:</span> <span style=\"background-color:rgba(135,206,250,0.1690758);\">germany</span> <span style=\"background-color:rgba(135,206,250,0.14922002);\">:</span> <span style=\"background-color:rgba(135,206,250,0.23674357);\">rheinhessen</span> <span style=\"background-color:rgba(135,206,250,0.2161473);\">:</span> <span style=\"background-color:rgba(135,206,250,0.068694405);\">riesling</span>"
      ],
      "text/plain": [
       "<IPython.core.display.HTML object>"
      ]
     },
     "metadata": {},
     "output_type": "display_data"
    },
    {
     "name": "stdout",
     "output_type": "stream",
     "text": [
      "::   \t100.0%\n",
      "-:   \t0.0%\n",
      "blanc:   \t0.0%\n",
      "grosso:   \t0.0%\n",
      "and:   \t0.0%\n",
      "--------\n",
      "\n"
     ]
    },
    {
     "data": {
      "text/html": [
       "<span style=\"background-color:rgba(135,206,250,0.89686096);\">wine</span> <span style=\"background-color:rgba(135,206,250,0.8848134);\">review</span> <span style=\"background-color:rgba(135,206,250,0.20862414);\">:</span> <span style=\"background-color:rgba(135,206,250,0.77643424);\">germany</span> <span style=\"background-color:rgba(135,206,250,0.35543126);\">:</span> <span style=\"background-color:rgba(135,206,250,1.0);\">rheinhessen</span> <span style=\"background-color:rgba(135,206,250,0.4359106);\">:</span> <span style=\"background-color:rgba(135,206,250,0.9194187);\">riesling</span> <span style=\"background-color:rgba(135,206,250,0.5892148);\">:</span>"
      ],
      "text/plain": [
       "<IPython.core.display.HTML object>"
      ]
     },
     "metadata": {},
     "output_type": "display_data"
    },
    {
     "name": "stdout",
     "output_type": "stream",
     "text": [
      "a:   \t46.62%\n",
      "the:   \t11.07%\n",
      "this:   \t9.79%\n",
      "sweet:   \t6.13%\n",
      "while:   \t4.19%\n",
      "--------\n",
      "\n"
     ]
    },
    {
     "data": {
      "text/html": [
       "<span style=\"background-color:rgba(135,206,250,0.75304896);\">wine</span> <span style=\"background-color:rgba(135,206,250,1.0);\">review</span> <span style=\"background-color:rgba(135,206,250,0.23316696);\">:</span> <span style=\"background-color:rgba(135,206,250,0.4781753);\">germany</span> <span style=\"background-color:rgba(135,206,250,0.21420442);\">:</span> <span style=\"background-color:rgba(135,206,250,0.3084701);\">rheinhessen</span> <span style=\"background-color:rgba(135,206,250,0.19661002);\">:</span> <span style=\"background-color:rgba(135,206,250,0.38528115);\">riesling</span> <span style=\"background-color:rgba(135,206,250,0.41094142);\">:</span> <span style=\"background-color:rgba(135,206,250,0.2910042);\">a</span>"
      ],
      "text/plain": [
       "<IPython.core.display.HTML object>"
      ]
     },
     "metadata": {},
     "output_type": "display_data"
    },
    {
     "name": "stdout",
     "output_type": "stream",
     "text": [
      "touch:   \t20.78%\n",
      "bit:   \t20.06%\n",
      "whiff:   \t8.46%\n",
      "little:   \t3.25%\n",
      "heady:   \t3.2%\n",
      "--------\n",
      "\n"
     ]
    },
    {
     "data": {
      "text/html": [
       "<span style=\"background-color:rgba(135,206,250,0.41724187);\">wine</span> <span style=\"background-color:rgba(135,206,250,1.0);\">review</span> <span style=\"background-color:rgba(135,206,250,0.13544132);\">:</span> <span style=\"background-color:rgba(135,206,250,0.20653489);\">germany</span> <span style=\"background-color:rgba(135,206,250,0.1454876);\">:</span> <span style=\"background-color:rgba(135,206,250,0.15737744);\">rheinhessen</span> <span style=\"background-color:rgba(135,206,250,0.123719685);\">:</span> <span style=\"background-color:rgba(135,206,250,0.100594684);\">riesling</span> <span style=\"background-color:rgba(135,206,250,0.27085602);\">:</span> <span style=\"background-color:rgba(135,206,250,0.3186449);\">a</span> <span style=\"background-color:rgba(135,206,250,0.27975583);\">touch</span>"
      ],
      "text/plain": [
       "<IPython.core.display.HTML object>"
      ]
     },
     "metadata": {},
     "output_type": "display_data"
    },
    {
     "name": "stdout",
     "output_type": "stream",
     "text": [
      "of:   \t98.74%\n",
      "blossomy:   \t0.23%\n",
      "off:   \t0.23%\n",
      "overripe:   \t0.14%\n",
      "green:   \t0.11%\n",
      "--------\n",
      "\n"
     ]
    },
    {
     "data": {
      "text/html": [
       "<span style=\"background-color:rgba(135,206,250,0.53697944);\">wine</span> <span style=\"background-color:rgba(135,206,250,0.75890714);\">review</span> <span style=\"background-color:rgba(135,206,250,0.10634649);\">:</span> <span style=\"background-color:rgba(135,206,250,0.41698587);\">germany</span> <span style=\"background-color:rgba(135,206,250,0.14311787);\">:</span> <span style=\"background-color:rgba(135,206,250,0.42366812);\">rheinhessen</span> <span style=\"background-color:rgba(135,206,250,0.17107555);\">:</span> <span style=\"background-color:rgba(135,206,250,0.41695374);\">riesling</span> <span style=\"background-color:rgba(135,206,250,0.24677025);\">:</span> <span style=\"background-color:rgba(135,206,250,0.42776385);\">a</span> <span style=\"background-color:rgba(135,206,250,1.0);\">touch</span> <span style=\"background-color:rgba(135,206,250,0.25354037);\">of</span>"
      ],
      "text/plain": [
       "<IPython.core.display.HTML object>"
      ]
     },
     "metadata": {},
     "output_type": "display_data"
    },
    {
     "name": "stdout",
     "output_type": "stream",
     "text": [
      "sweet:   \t27.75%\n",
      "smoke:   \t15.98%\n",
      "petrol:   \t13.57%\n",
      "sweetness:   \t13.19%\n",
      "honey:   \t5.77%\n",
      "--------\n",
      "\n"
     ]
    },
    {
     "data": {
      "text/html": [
       "<span style=\"background-color:rgba(135,206,250,0.5624168);\">wine</span> <span style=\"background-color:rgba(135,206,250,0.98083323);\">review</span> <span style=\"background-color:rgba(135,206,250,0.18107581);\">:</span> <span style=\"background-color:rgba(135,206,250,0.33578318);\">germany</span> <span style=\"background-color:rgba(135,206,250,0.22979043);\">:</span> <span style=\"background-color:rgba(135,206,250,0.2082799);\">rheinhessen</span> <span style=\"background-color:rgba(135,206,250,0.1914625);\">:</span> <span style=\"background-color:rgba(135,206,250,0.18580998);\">riesling</span> <span style=\"background-color:rgba(135,206,250,0.25041732);\">:</span> <span style=\"background-color:rgba(135,206,250,0.6192897);\">a</span> <span style=\"background-color:rgba(135,206,250,1.0);\">touch</span> <span style=\"background-color:rgba(135,206,250,0.8703369);\">of</span> <span style=\"background-color:rgba(135,206,250,0.319181);\">mineral</span>"
      ],
      "text/plain": [
       "<IPython.core.display.HTML object>"
      ]
     },
     "metadata": {},
     "output_type": "display_data"
    },
    {
     "name": "stdout",
     "output_type": "stream",
     "text": [
      "and:   \t28.58%\n",
      "tones:   \t21.49%\n",
      "oil:   \t12.37%\n",
      "on:   \t10.24%\n",
      "notes:   \t6.51%\n",
      "--------\n",
      "\n"
     ]
    },
    {
     "data": {
      "text/html": [
       "<span style=\"background-color:rgba(135,206,250,0.5501838);\">wine</span> <span style=\"background-color:rgba(135,206,250,1.0);\">review</span> <span style=\"background-color:rgba(135,206,250,0.11709961);\">:</span> <span style=\"background-color:rgba(135,206,250,0.082350865);\">germany</span> <span style=\"background-color:rgba(135,206,250,0.2706985);\">:</span> <span style=\"background-color:rgba(135,206,250,0.17831732);\">rheinhessen</span> <span style=\"background-color:rgba(135,206,250,0.15887615);\">:</span> <span style=\"background-color:rgba(135,206,250,0.059396166);\">riesling</span> <span style=\"background-color:rgba(135,206,250,0.16103625);\">:</span> <span style=\"background-color:rgba(135,206,250,0.31546924);\">a</span> <span style=\"background-color:rgba(135,206,250,0.3566519);\">touch</span> <span style=\"background-color:rgba(135,206,250,0.31638315);\">of</span> <span style=\"background-color:rgba(135,206,250,0.23786175);\">mineral</span> <span style=\"background-color:rgba(135,206,250,0.17598732);\">clings</span>"
      ],
      "text/plain": [
       "<IPython.core.display.HTML object>"
      ]
     },
     "metadata": {},
     "output_type": "display_data"
    },
    {
     "name": "stdout",
     "output_type": "stream",
     "text": [
      "to:   \t100.0%\n",
      "into:   \t0.0%\n",
      "through:   \t0.0%\n",
      "at:   \t0.0%\n",
      "on:   \t0.0%\n",
      "--------\n",
      "\n"
     ]
    },
    {
     "data": {
      "text/html": [
       "<span style=\"background-color:rgba(135,206,250,0.28049633);\">wine</span> <span style=\"background-color:rgba(135,206,250,0.39655888);\">review</span> <span style=\"background-color:rgba(135,206,250,0.06299364);\">:</span> <span style=\"background-color:rgba(135,206,250,0.16117801);\">germany</span> <span style=\"background-color:rgba(135,206,250,0.07006116);\">:</span> <span style=\"background-color:rgba(135,206,250,0.11331253);\">rheinhessen</span> <span style=\"background-color:rgba(135,206,250,0.06367335);\">:</span> <span style=\"background-color:rgba(135,206,250,0.16128229);\">riesling</span> <span style=\"background-color:rgba(135,206,250,0.0810593);\">:</span> <span style=\"background-color:rgba(135,206,250,0.11354007);\">a</span> <span style=\"background-color:rgba(135,206,250,0.20880832);\">touch</span> <span style=\"background-color:rgba(135,206,250,0.14834712);\">of</span> <span style=\"background-color:rgba(135,206,250,0.20434244);\">mineral</span> <span style=\"background-color:rgba(135,206,250,1.0);\">clings</span> <span style=\"background-color:rgba(135,206,250,0.10447907);\">to</span>"
      ],
      "text/plain": [
       "<IPython.core.display.HTML object>"
      ]
     },
     "metadata": {},
     "output_type": "display_data"
    },
    {
     "name": "stdout",
     "output_type": "stream",
     "text": [
      "the:   \t88.72%\n",
      "a:   \t10.3%\n",
      "an:   \t0.23%\n",
      "nose:   \t0.17%\n",
      "fresh:   \t0.13%\n",
      "--------\n",
      "\n"
     ]
    },
    {
     "data": {
      "text/html": [
       "<span style=\"background-color:rgba(135,206,250,0.2816296);\">wine</span> <span style=\"background-color:rgba(135,206,250,0.35397905);\">review</span> <span style=\"background-color:rgba(135,206,250,0.089535445);\">:</span> <span style=\"background-color:rgba(135,206,250,0.25416365);\">germany</span> <span style=\"background-color:rgba(135,206,250,0.06877912);\">:</span> <span style=\"background-color:rgba(135,206,250,0.17912094);\">rheinhessen</span> <span style=\"background-color:rgba(135,206,250,0.067064844);\">:</span> <span style=\"background-color:rgba(135,206,250,0.2694282);\">riesling</span> <span style=\"background-color:rgba(135,206,250,0.09851388);\">:</span> <span style=\"background-color:rgba(135,206,250,0.12257419);\">a</span> <span style=\"background-color:rgba(135,206,250,0.30536133);\">touch</span> <span style=\"background-color:rgba(135,206,250,0.18379354);\">of</span> <span style=\"background-color:rgba(135,206,250,0.2667765);\">mineral</span> <span style=\"background-color:rgba(135,206,250,1.0);\">clings</span> <span style=\"background-color:rgba(135,206,250,0.47226825);\">to</span> <span style=\"background-color:rgba(135,206,250,0.2102803);\">the</span>"
      ],
      "text/plain": [
       "<IPython.core.display.HTML object>"
      ]
     },
     "metadata": {},
     "output_type": "display_data"
    },
    {
     "name": "stdout",
     "output_type": "stream",
     "text": [
      "nose:   \t66.21%\n",
      "palate:   \t31.34%\n",
      "bouquet:   \t0.57%\n",
      "lemon:   \t0.2%\n",
      "fresh:   \t0.19%\n",
      "--------\n",
      "\n"
     ]
    },
    {
     "data": {
      "text/html": [
       "<span style=\"background-color:rgba(135,206,250,0.28184742);\">wine</span> <span style=\"background-color:rgba(135,206,250,1.0);\">review</span> <span style=\"background-color:rgba(135,206,250,0.0971764);\">:</span> <span style=\"background-color:rgba(135,206,250,0.51309216);\">germany</span> <span style=\"background-color:rgba(135,206,250,0.09835824);\">:</span> <span style=\"background-color:rgba(135,206,250,0.17666936);\">rheinhessen</span> <span style=\"background-color:rgba(135,206,250,0.10010818);\">:</span> <span style=\"background-color:rgba(135,206,250,0.10511767);\">riesling</span> <span style=\"background-color:rgba(135,206,250,0.13027851);\">:</span> <span style=\"background-color:rgba(135,206,250,0.3388321);\">a</span> <span style=\"background-color:rgba(135,206,250,0.28231412);\">touch</span> <span style=\"background-color:rgba(135,206,250,0.19070627);\">of</span> <span style=\"background-color:rgba(135,206,250,0.17967233);\">mineral</span> <span style=\"background-color:rgba(135,206,250,0.95250726);\">clings</span> <span style=\"background-color:rgba(135,206,250,0.44558787);\">to</span> <span style=\"background-color:rgba(135,206,250,0.5847648);\">the</span> <span style=\"background-color:rgba(135,206,250,0.30036703);\">palate</span>"
      ],
      "text/plain": [
       "<IPython.core.display.HTML object>"
      ]
     },
     "metadata": {},
     "output_type": "display_data"
    },
    {
     "name": "stdout",
     "output_type": "stream",
     "text": [
      "of:   \t97.66%\n",
      "in:   \t1.33%\n",
      "on:   \t0.84%\n",
      ",:   \t0.08%\n",
      "for:   \t0.05%\n",
      "--------\n",
      "\n"
     ]
    },
    {
     "data": {
      "text/html": [
       "<span style=\"background-color:rgba(135,206,250,0.28924733);\">wine</span> <span style=\"background-color:rgba(135,206,250,0.4346609);\">review</span> <span style=\"background-color:rgba(135,206,250,0.07685137);\">:</span> <span style=\"background-color:rgba(135,206,250,0.40090725);\">germany</span> <span style=\"background-color:rgba(135,206,250,0.077760324);\">:</span> <span style=\"background-color:rgba(135,206,250,0.2577816);\">rheinhessen</span> <span style=\"background-color:rgba(135,206,250,0.09610437);\">:</span> <span style=\"background-color:rgba(135,206,250,0.4207897);\">riesling</span> <span style=\"background-color:rgba(135,206,250,0.11633776);\">:</span> <span style=\"background-color:rgba(135,206,250,0.168404);\">a</span> <span style=\"background-color:rgba(135,206,250,0.25282377);\">touch</span> <span style=\"background-color:rgba(135,206,250,0.07848143);\">of</span> <span style=\"background-color:rgba(135,206,250,0.2926899);\">mineral</span> <span style=\"background-color:rgba(135,206,250,0.63465255);\">clings</span> <span style=\"background-color:rgba(135,206,250,0.22946468);\">to</span> <span style=\"background-color:rgba(135,206,250,0.6440024);\">the</span> <span style=\"background-color:rgba(135,206,250,1.0);\">palate</span> <span style=\"background-color:rgba(135,206,250,0.22781692);\">of</span>"
      ],
      "text/plain": [
       "<IPython.core.display.HTML object>"
      ]
     },
     "metadata": {},
     "output_type": "display_data"
    },
    {
     "name": "stdout",
     "output_type": "stream",
     "text": [
      "this:   \t99.77%\n",
      "the:   \t0.2%\n",
      "a:   \t0.02%\n",
      "[UNK]:   \t0.01%\n",
      "riesling:   \t0.0%\n",
      "--------\n",
      "\n"
     ]
    },
    {
     "data": {
      "text/html": [
       "<span style=\"background-color:rgba(135,206,250,0.5804394);\">wine</span> <span style=\"background-color:rgba(135,206,250,0.96810204);\">review</span> <span style=\"background-color:rgba(135,206,250,0.46952757);\">:</span> <span style=\"background-color:rgba(135,206,250,1.0);\">germany</span> <span style=\"background-color:rgba(135,206,250,0.17121267);\">:</span> <span style=\"background-color:rgba(135,206,250,0.39084965);\">rheinhessen</span> <span style=\"background-color:rgba(135,206,250,0.15607357);\">:</span> <span style=\"background-color:rgba(135,206,250,0.8081125);\">riesling</span> <span style=\"background-color:rgba(135,206,250,0.23816894);\">:</span> <span style=\"background-color:rgba(135,206,250,0.2950702);\">a</span> <span style=\"background-color:rgba(135,206,250,0.34583142);\">touch</span> <span style=\"background-color:rgba(135,206,250,0.20768425);\">of</span> <span style=\"background-color:rgba(135,206,250,0.26574466);\">mineral</span> <span style=\"background-color:rgba(135,206,250,0.92853063);\">clings</span> <span style=\"background-color:rgba(135,206,250,0.3403757);\">to</span> <span style=\"background-color:rgba(135,206,250,0.30399743);\">the</span> <span style=\"background-color:rgba(135,206,250,0.64810264);\">palate</span> <span style=\"background-color:rgba(135,206,250,0.61485726);\">of</span> <span style=\"background-color:rgba(135,206,250,0.58325666);\">this</span>"
      ],
      "text/plain": [
       "<IPython.core.display.HTML object>"
      ]
     },
     "metadata": {},
     "output_type": "display_data"
    },
    {
     "name": "stdout",
     "output_type": "stream",
     "text": [
      "dry:   \t91.5%\n",
      "off:   \t3.6%\n",
      "riesling:   \t1.38%\n",
      "intensely:   \t0.66%\n",
      "wine:   \t0.55%\n",
      "--------\n",
      "\n"
     ]
    },
    {
     "data": {
      "text/html": [
       "<span style=\"background-color:rgba(135,206,250,0.26048294);\">wine</span> <span style=\"background-color:rgba(135,206,250,0.3763895);\">review</span> <span style=\"background-color:rgba(135,206,250,0.08835767);\">:</span> <span style=\"background-color:rgba(135,206,250,0.31134522);\">germany</span> <span style=\"background-color:rgba(135,206,250,0.08180374);\">:</span> <span style=\"background-color:rgba(135,206,250,0.1827087);\">rheinhessen</span> <span style=\"background-color:rgba(135,206,250,0.08898465);\">:</span> <span style=\"background-color:rgba(135,206,250,0.39542118);\">riesling</span> <span style=\"background-color:rgba(135,206,250,0.11435816);\">:</span> <span style=\"background-color:rgba(135,206,250,0.1198632);\">a</span> <span style=\"background-color:rgba(135,206,250,0.19131736);\">touch</span> <span style=\"background-color:rgba(135,206,250,0.14575638);\">of</span> <span style=\"background-color:rgba(135,206,250,0.09508461);\">mineral</span> <span style=\"background-color:rgba(135,206,250,0.30177823);\">clings</span> <span style=\"background-color:rgba(135,206,250,0.19886495);\">to</span> <span style=\"background-color:rgba(135,206,250,0.3455364);\">the</span> <span style=\"background-color:rgba(135,206,250,0.4782136);\">palate</span> <span style=\"background-color:rgba(135,206,250,0.39630067);\">of</span> <span style=\"background-color:rgba(135,206,250,1.0);\">this</span> <span style=\"background-color:rgba(135,206,250,0.17942503);\">dry</span>"
      ],
      "text/plain": [
       "<IPython.core.display.HTML object>"
      ]
     },
     "metadata": {},
     "output_type": "display_data"
    },
    {
     "name": "stdout",
     "output_type": "stream",
     "text": [
      ",:   \t77.15%\n",
      "riesling:   \t22.51%\n",
      "wine:   \t0.15%\n",
      "and:   \t0.09%\n",
      "white:   \t0.03%\n",
      "--------\n",
      "\n"
     ]
    },
    {
     "data": {
      "text/html": [
       "<span style=\"background-color:rgba(135,206,250,0.15809184);\">wine</span> <span style=\"background-color:rgba(135,206,250,0.31364968);\">review</span> <span style=\"background-color:rgba(135,206,250,0.12125631);\">:</span> <span style=\"background-color:rgba(135,206,250,0.28679347);\">germany</span> <span style=\"background-color:rgba(135,206,250,0.06820473);\">:</span> <span style=\"background-color:rgba(135,206,250,0.15211318);\">rheinhessen</span> <span style=\"background-color:rgba(135,206,250,0.06888938);\">:</span> <span style=\"background-color:rgba(135,206,250,0.2689846);\">riesling</span> <span style=\"background-color:rgba(135,206,250,0.10284902);\">:</span> <span style=\"background-color:rgba(135,206,250,0.08905165);\">a</span> <span style=\"background-color:rgba(135,206,250,0.17024396);\">touch</span> <span style=\"background-color:rgba(135,206,250,0.11802758);\">of</span> <span style=\"background-color:rgba(135,206,250,0.15140101);\">mineral</span> <span style=\"background-color:rgba(135,206,250,0.46497825);\">clings</span> <span style=\"background-color:rgba(135,206,250,0.14784974);\">to</span> <span style=\"background-color:rgba(135,206,250,0.17324588);\">the</span> <span style=\"background-color:rgba(135,206,250,0.3166853);\">palate</span> <span style=\"background-color:rgba(135,206,250,0.30486274);\">of</span> <span style=\"background-color:rgba(135,206,250,0.82739925);\">this</span> <span style=\"background-color:rgba(135,206,250,1.0);\">dry</span> <span style=\"background-color:rgba(135,206,250,0.40519947);\">,</span>"
      ],
      "text/plain": [
       "<IPython.core.display.HTML object>"
      ]
     },
     "metadata": {},
     "output_type": "display_data"
    },
    {
     "name": "stdout",
     "output_type": "stream",
     "text": [
      "medium:   \t78.64%\n",
      "full:   \t5.49%\n",
      "invigorating:   \t2.17%\n",
      "tart:   \t1.6%\n",
      "refreshing:   \t1.29%\n",
      "--------\n",
      "\n"
     ]
    },
    {
     "data": {
      "text/html": [
       "<span style=\"background-color:rgba(135,206,250,0.39330944);\">wine</span> <span style=\"background-color:rgba(135,206,250,0.51939774);\">review</span> <span style=\"background-color:rgba(135,206,250,0.28720954);\">:</span> <span style=\"background-color:rgba(135,206,250,0.40566465);\">germany</span> <span style=\"background-color:rgba(135,206,250,0.16871768);\">:</span> <span style=\"background-color:rgba(135,206,250,0.2520584);\">rheinhessen</span> <span style=\"background-color:rgba(135,206,250,0.16303481);\">:</span> <span style=\"background-color:rgba(135,206,250,0.5943445);\">riesling</span> <span style=\"background-color:rgba(135,206,250,0.21292885);\">:</span> <span style=\"background-color:rgba(135,206,250,0.23071307);\">a</span> <span style=\"background-color:rgba(135,206,250,0.14380424);\">touch</span> <span style=\"background-color:rgba(135,206,250,0.14492211);\">of</span> <span style=\"background-color:rgba(135,206,250,0.15189399);\">mineral</span> <span style=\"background-color:rgba(135,206,250,0.28633872);\">clings</span> <span style=\"background-color:rgba(135,206,250,0.22013167);\">to</span> <span style=\"background-color:rgba(135,206,250,0.29047295);\">the</span> <span style=\"background-color:rgba(135,206,250,0.5422077);\">palate</span> <span style=\"background-color:rgba(135,206,250,0.29662424);\">of</span> <span style=\"background-color:rgba(135,206,250,0.7495678);\">this</span> <span style=\"background-color:rgba(135,206,250,0.33531693);\">dry</span> <span style=\"background-color:rgba(135,206,250,1.0);\">,</span> <span style=\"background-color:rgba(135,206,250,0.69965094);\">medium</span>"
      ],
      "text/plain": [
       "<IPython.core.display.HTML object>"
      ]
     },
     "metadata": {},
     "output_type": "display_data"
    },
    {
     "name": "stdout",
     "output_type": "stream",
     "text": [
      "-:   \t99.99%\n",
      "bodied:   \t0.0%\n",
      "sweet:   \t0.0%\n",
      "dry:   \t0.0%\n",
      "straw:   \t0.0%\n",
      "--------\n",
      "\n"
     ]
    },
    {
     "data": {
      "text/html": [
       "<span style=\"background-color:rgba(135,206,250,0.10736388);\">wine</span> <span style=\"background-color:rgba(135,206,250,0.14847425);\">review</span> <span style=\"background-color:rgba(135,206,250,0.06610856);\">:</span> <span style=\"background-color:rgba(135,206,250,0.13808957);\">germany</span> <span style=\"background-color:rgba(135,206,250,0.050384652);\">:</span> <span style=\"background-color:rgba(135,206,250,0.08045133);\">rheinhessen</span> <span style=\"background-color:rgba(135,206,250,0.040612053);\">:</span> <span style=\"background-color:rgba(135,206,250,0.1746068);\">riesling</span> <span style=\"background-color:rgba(135,206,250,0.058380995);\">:</span> <span style=\"background-color:rgba(135,206,250,0.04888142);\">a</span> <span style=\"background-color:rgba(135,206,250,0.049210735);\">touch</span> <span style=\"background-color:rgba(135,206,250,0.050232194);\">of</span> <span style=\"background-color:rgba(135,206,250,0.04727828);\">mineral</span> <span style=\"background-color:rgba(135,206,250,0.120936945);\">clings</span> <span style=\"background-color:rgba(135,206,250,0.055418056);\">to</span> <span style=\"background-color:rgba(135,206,250,0.036303833);\">the</span> <span style=\"background-color:rgba(135,206,250,0.095117666);\">palate</span> <span style=\"background-color:rgba(135,206,250,0.07185228);\">of</span> <span style=\"background-color:rgba(135,206,250,0.1229402);\">this</span> <span style=\"background-color:rgba(135,206,250,0.25500593);\">dry</span> <span style=\"background-color:rgba(135,206,250,0.1433276);\">,</span> <span style=\"background-color:rgba(135,206,250,1.0);\">medium</span> <span style=\"background-color:rgba(135,206,250,0.046137493);\">-</span>"
      ],
      "text/plain": [
       "<IPython.core.display.HTML object>"
      ]
     },
     "metadata": {},
     "output_type": "display_data"
    },
    {
     "name": "stdout",
     "output_type": "stream",
     "text": [
      "bodied:   \t98.54%\n",
      "sweet:   \t1.33%\n",
      "weight:   \t0.08%\n",
      "to:   \t0.04%\n",
      "dry:   \t0.01%\n",
      "--------\n",
      "\n"
     ]
    },
    {
     "data": {
      "text/html": [
       "<span style=\"background-color:rgba(135,206,250,0.34960264);\">wine</span> <span style=\"background-color:rgba(135,206,250,0.59563005);\">review</span> <span style=\"background-color:rgba(135,206,250,0.18145107);\">:</span> <span style=\"background-color:rgba(135,206,250,0.64929885);\">germany</span> <span style=\"background-color:rgba(135,206,250,0.1042778);\">:</span> <span style=\"background-color:rgba(135,206,250,0.24406572);\">rheinhessen</span> <span style=\"background-color:rgba(135,206,250,0.13921186);\">:</span> <span style=\"background-color:rgba(135,206,250,0.6423566);\">riesling</span> <span style=\"background-color:rgba(135,206,250,0.2081456);\">:</span> <span style=\"background-color:rgba(135,206,250,0.24010874);\">a</span> <span style=\"background-color:rgba(135,206,250,0.20910765);\">touch</span> <span style=\"background-color:rgba(135,206,250,0.15822528);\">of</span> <span style=\"background-color:rgba(135,206,250,0.1102078);\">mineral</span> <span style=\"background-color:rgba(135,206,250,0.32727972);\">clings</span> <span style=\"background-color:rgba(135,206,250,0.16765772);\">to</span> <span style=\"background-color:rgba(135,206,250,0.32550547);\">the</span> <span style=\"background-color:rgba(135,206,250,0.42813718);\">palate</span> <span style=\"background-color:rgba(135,206,250,0.31303892);\">of</span> <span style=\"background-color:rgba(135,206,250,1.0);\">this</span> <span style=\"background-color:rgba(135,206,250,0.17966455);\">dry</span> <span style=\"background-color:rgba(135,206,250,0.6399844);\">,</span> <span style=\"background-color:rgba(135,206,250,0.6940605);\">medium</span> <span style=\"background-color:rgba(135,206,250,0.30743542);\">-</span> <span style=\"background-color:rgba(135,206,250,0.35269353);\">bodied</span>"
      ],
      "text/plain": [
       "<IPython.core.display.HTML object>"
      ]
     },
     "metadata": {},
     "output_type": "display_data"
    },
    {
     "name": "stdout",
     "output_type": "stream",
     "text": [
      "riesling:   \t98.96%\n",
      "wine:   \t0.68%\n",
      "white:   \t0.14%\n",
      "dry:   \t0.1%\n",
      "kabinett:   \t0.07%\n",
      "--------\n",
      "\n"
     ]
    },
    {
     "data": {
      "text/html": [
       "<span style=\"background-color:rgba(135,206,250,0.34628305);\">wine</span> <span style=\"background-color:rgba(135,206,250,1.0);\">review</span> <span style=\"background-color:rgba(135,206,250,0.18489575);\">:</span> <span style=\"background-color:rgba(135,206,250,0.47495133);\">germany</span> <span style=\"background-color:rgba(135,206,250,0.13341849);\">:</span> <span style=\"background-color:rgba(135,206,250,0.14961566);\">rheinhessen</span> <span style=\"background-color:rgba(135,206,250,0.17757964);\">:</span> <span style=\"background-color:rgba(135,206,250,0.14583851);\">riesling</span> <span style=\"background-color:rgba(135,206,250,0.23758142);\">:</span> <span style=\"background-color:rgba(135,206,250,0.3959817);\">a</span> <span style=\"background-color:rgba(135,206,250,0.20657082);\">touch</span> <span style=\"background-color:rgba(135,206,250,0.14816362);\">of</span> <span style=\"background-color:rgba(135,206,250,0.09740711);\">mineral</span> <span style=\"background-color:rgba(135,206,250,0.6357156);\">clings</span> <span style=\"background-color:rgba(135,206,250,0.2229556);\">to</span> <span style=\"background-color:rgba(135,206,250,0.30048668);\">the</span> <span style=\"background-color:rgba(135,206,250,0.25889087);\">palate</span> <span style=\"background-color:rgba(135,206,250,0.25955886);\">of</span> <span style=\"background-color:rgba(135,206,250,0.700146);\">this</span> <span style=\"background-color:rgba(135,206,250,0.25567847);\">dry</span> <span style=\"background-color:rgba(135,206,250,0.72319394);\">,</span> <span style=\"background-color:rgba(135,206,250,0.47226956);\">medium</span> <span style=\"background-color:rgba(135,206,250,0.3697154);\">-</span> <span style=\"background-color:rgba(135,206,250,0.5992203);\">bodied</span> <span style=\"background-color:rgba(135,206,250,0.5168088);\">riesling</span>"
      ],
      "text/plain": [
       "<IPython.core.display.HTML object>"
      ]
     },
     "metadata": {},
     "output_type": "display_data"
    },
    {
     "name": "stdout",
     "output_type": "stream",
     "text": [
      ".:   \t99.71%\n",
      ",:   \t0.12%\n",
      "that:   \t0.11%\n",
      "with:   \t0.04%\n",
      "which:   \t0.01%\n",
      "--------\n",
      "\n"
     ]
    },
    {
     "data": {
      "text/html": [
       "<span style=\"background-color:rgba(135,206,250,1.0);\">wine</span> <span style=\"background-color:rgba(135,206,250,0.66095525);\">review</span> <span style=\"background-color:rgba(135,206,250,0.11059864);\">:</span> <span style=\"background-color:rgba(135,206,250,0.63368714);\">germany</span> <span style=\"background-color:rgba(135,206,250,0.761098);\">:</span> <span style=\"background-color:rgba(135,206,250,0.40393203);\">rheinhessen</span> <span style=\"background-color:rgba(135,206,250,0.25807717);\">:</span> <span style=\"background-color:rgba(135,206,250,0.5327489);\">riesling</span> <span style=\"background-color:rgba(135,206,250,0.22230203);\">:</span> <span style=\"background-color:rgba(135,206,250,0.15418206);\">a</span> <span style=\"background-color:rgba(135,206,250,0.15286173);\">touch</span> <span style=\"background-color:rgba(135,206,250,0.114591286);\">of</span> <span style=\"background-color:rgba(135,206,250,0.1666454);\">mineral</span> <span style=\"background-color:rgba(135,206,250,0.39547136);\">clings</span> <span style=\"background-color:rgba(135,206,250,0.13390917);\">to</span> <span style=\"background-color:rgba(135,206,250,0.11803926);\">the</span> <span style=\"background-color:rgba(135,206,250,0.34163907);\">palate</span> <span style=\"background-color:rgba(135,206,250,0.107865356);\">of</span> <span style=\"background-color:rgba(135,206,250,0.39062524);\">this</span> <span style=\"background-color:rgba(135,206,250,0.20699053);\">dry</span> <span style=\"background-color:rgba(135,206,250,0.20163082);\">,</span> <span style=\"background-color:rgba(135,206,250,0.26921475);\">medium</span> <span style=\"background-color:rgba(135,206,250,0.15526839);\">-</span> <span style=\"background-color:rgba(135,206,250,0.31602642);\">bodied</span> <span style=\"background-color:rgba(135,206,250,0.62934065);\">riesling</span> <span style=\"background-color:rgba(135,206,250,0.5845139);\">.</span>"
      ],
      "text/plain": [
       "<IPython.core.display.HTML object>"
      ]
     },
     "metadata": {},
     "output_type": "display_data"
    },
    {
     "name": "stdout",
     "output_type": "stream",
     "text": [
      "it:   \t86.03%\n",
      "the:   \t11.27%\n",
      "a:   \t0.42%\n",
      "there:   \t0.39%\n",
      "dry:   \t0.38%\n",
      "--------\n",
      "\n"
     ]
    },
    {
     "data": {
      "text/html": [
       "<span style=\"background-color:rgba(135,206,250,0.083650626);\">wine</span> <span style=\"background-color:rgba(135,206,250,0.13141294);\">review</span> <span style=\"background-color:rgba(135,206,250,0.22792467);\">:</span> <span style=\"background-color:rgba(135,206,250,0.20219257);\">germany</span> <span style=\"background-color:rgba(135,206,250,0.033546396);\">:</span> <span style=\"background-color:rgba(135,206,250,0.09188037);\">rheinhessen</span> <span style=\"background-color:rgba(135,206,250,0.03516132);\">:</span> <span style=\"background-color:rgba(135,206,250,0.07605546);\">riesling</span> <span style=\"background-color:rgba(135,206,250,0.045265708);\">:</span> <span style=\"background-color:rgba(135,206,250,0.044990133);\">a</span> <span style=\"background-color:rgba(135,206,250,0.07232057);\">touch</span> <span style=\"background-color:rgba(135,206,250,0.038054135);\">of</span> <span style=\"background-color:rgba(135,206,250,0.056945633);\">mineral</span> <span style=\"background-color:rgba(135,206,250,0.16140756);\">clings</span> <span style=\"background-color:rgba(135,206,250,0.04683183);\">to</span> <span style=\"background-color:rgba(135,206,250,0.02733305);\">the</span> <span style=\"background-color:rgba(135,206,250,0.07411879);\">palate</span> <span style=\"background-color:rgba(135,206,250,0.042834245);\">of</span> <span style=\"background-color:rgba(135,206,250,0.05782398);\">this</span> <span style=\"background-color:rgba(135,206,250,0.10021609);\">dry</span> <span style=\"background-color:rgba(135,206,250,0.082477495);\">,</span> <span style=\"background-color:rgba(135,206,250,0.12458504);\">medium</span> <span style=\"background-color:rgba(135,206,250,0.065453954);\">-</span> <span style=\"background-color:rgba(135,206,250,0.21389383);\">bodied</span> <span style=\"background-color:rgba(135,206,250,0.1684576);\">riesling</span> <span style=\"background-color:rgba(135,206,250,1.0);\">.</span> <span style=\"background-color:rgba(135,206,250,0.16700262);\">it</span>"
      ],
      "text/plain": [
       "<IPython.core.display.HTML object>"
      ]
     },
     "metadata": {},
     "output_type": "display_data"
    },
    {
     "name": "stdout",
     "output_type": "stream",
     "text": [
      "':   \t99.96%\n",
      "has:   \t0.02%\n",
      "finishes:   \t0.02%\n",
      "is:   \t0.01%\n",
      "offers:   \t0.0%\n",
      "--------\n",
      "\n"
     ]
    },
    {
     "data": {
      "text/html": [
       "<span style=\"background-color:rgba(135,206,250,0.12874348);\">wine</span> <span style=\"background-color:rgba(135,206,250,0.21182287);\">review</span> <span style=\"background-color:rgba(135,206,250,0.09696852);\">:</span> <span style=\"background-color:rgba(135,206,250,0.15782699);\">germany</span> <span style=\"background-color:rgba(135,206,250,0.041040786);\">:</span> <span style=\"background-color:rgba(135,206,250,0.105939075);\">rheinhessen</span> <span style=\"background-color:rgba(135,206,250,0.04260385);\">:</span> <span style=\"background-color:rgba(135,206,250,0.16914904);\">riesling</span> <span style=\"background-color:rgba(135,206,250,0.050112933);\">:</span> <span style=\"background-color:rgba(135,206,250,0.037356123);\">a</span> <span style=\"background-color:rgba(135,206,250,0.050131842);\">touch</span> <span style=\"background-color:rgba(135,206,250,0.04590136);\">of</span> <span style=\"background-color:rgba(135,206,250,0.044440936);\">mineral</span> <span style=\"background-color:rgba(135,206,250,0.06471388);\">clings</span> <span style=\"background-color:rgba(135,206,250,0.04621732);\">to</span> <span style=\"background-color:rgba(135,206,250,0.041057445);\">the</span> <span style=\"background-color:rgba(135,206,250,0.08602305);\">palate</span> <span style=\"background-color:rgba(135,206,250,0.047904916);\">of</span> <span style=\"background-color:rgba(135,206,250,0.064040616);\">this</span> <span style=\"background-color:rgba(135,206,250,0.055864457);\">dry</span> <span style=\"background-color:rgba(135,206,250,0.07309193);\">,</span> <span style=\"background-color:rgba(135,206,250,0.076677695);\">medium</span> <span style=\"background-color:rgba(135,206,250,0.05873408);\">-</span> <span style=\"background-color:rgba(135,206,250,0.14197224);\">bodied</span> <span style=\"background-color:rgba(135,206,250,0.28452983);\">riesling</span> <span style=\"background-color:rgba(135,206,250,0.63852286);\">.</span> <span style=\"background-color:rgba(135,206,250,1.0);\">it</span> <span style=\"background-color:rgba(135,206,250,0.12345541);\">'</span>"
      ],
      "text/plain": [
       "<IPython.core.display.HTML object>"
      ]
     },
     "metadata": {},
     "output_type": "display_data"
    },
    {
     "name": "stdout",
     "output_type": "stream",
     "text": [
      "s:   \t100.0%\n",
      "ll:   \t0.0%\n",
      "[UNK]:   \t0.0%\n",
      "11:   \t0.0%\n",
      "off:   \t0.0%\n",
      "--------\n",
      "\n"
     ]
    },
    {
     "data": {
      "text/html": [
       "<span style=\"background-color:rgba(135,206,250,0.10701015);\">wine</span> <span style=\"background-color:rgba(135,206,250,0.17837602);\">review</span> <span style=\"background-color:rgba(135,206,250,0.20322888);\">:</span> <span style=\"background-color:rgba(135,206,250,0.25456816);\">germany</span> <span style=\"background-color:rgba(135,206,250,0.03463438);\">:</span> <span style=\"background-color:rgba(135,206,250,0.11559019);\">rheinhessen</span> <span style=\"background-color:rgba(135,206,250,0.037943285);\">:</span> <span style=\"background-color:rgba(135,206,250,0.2183774);\">riesling</span> <span style=\"background-color:rgba(135,206,250,0.058509268);\">:</span> <span style=\"background-color:rgba(135,206,250,0.037630856);\">a</span> <span style=\"background-color:rgba(135,206,250,0.04990668);\">touch</span> <span style=\"background-color:rgba(135,206,250,0.03522989);\">of</span> <span style=\"background-color:rgba(135,206,250,0.07631896);\">mineral</span> <span style=\"background-color:rgba(135,206,250,0.12062166);\">clings</span> <span style=\"background-color:rgba(135,206,250,0.03787831);\">to</span> <span style=\"background-color:rgba(135,206,250,0.03158776);\">the</span> <span style=\"background-color:rgba(135,206,250,0.09100842);\">palate</span> <span style=\"background-color:rgba(135,206,250,0.039292067);\">of</span> <span style=\"background-color:rgba(135,206,250,0.07135278);\">this</span> <span style=\"background-color:rgba(135,206,250,0.13052702);\">dry</span> <span style=\"background-color:rgba(135,206,250,0.088476926);\">,</span> <span style=\"background-color:rgba(135,206,250,0.15264408);\">medium</span> <span style=\"background-color:rgba(135,206,250,0.057550013);\">-</span> <span style=\"background-color:rgba(135,206,250,0.19479851);\">bodied</span> <span style=\"background-color:rgba(135,206,250,0.27765298);\">riesling</span> <span style=\"background-color:rgba(135,206,250,1.0);\">.</span> <span style=\"background-color:rgba(135,206,250,0.56640416);\">it</span> <span style=\"background-color:rgba(135,206,250,0.09256964);\">'</span> <span style=\"background-color:rgba(135,206,250,0.18171352);\">s</span>"
      ],
      "text/plain": [
       "<IPython.core.display.HTML object>"
      ]
     },
     "metadata": {},
     "output_type": "display_data"
    },
    {
     "name": "stdout",
     "output_type": "stream",
     "text": [
      "a:   \t22.15%\n",
      "dry:   \t12.83%\n",
      "lean:   \t5.74%\n",
      "rich:   \t4.9%\n",
      "brisk:   \t4.57%\n",
      "--------\n",
      "\n"
     ]
    },
    {
     "data": {
      "text/html": [
       "<span style=\"background-color:rgba(135,206,250,0.119747825);\">wine</span> <span style=\"background-color:rgba(135,206,250,0.18941711);\">review</span> <span style=\"background-color:rgba(135,206,250,0.3300881);\">:</span> <span style=\"background-color:rgba(135,206,250,0.3609246);\">germany</span> <span style=\"background-color:rgba(135,206,250,0.043284666);\">:</span> <span style=\"background-color:rgba(135,206,250,0.14419776);\">rheinhessen</span> <span style=\"background-color:rgba(135,206,250,0.048754852);\">:</span> <span style=\"background-color:rgba(135,206,250,0.2727797);\">riesling</span> <span style=\"background-color:rgba(135,206,250,0.072893664);\">:</span> <span style=\"background-color:rgba(135,206,250,0.04237921);\">a</span> <span style=\"background-color:rgba(135,206,250,0.07350084);\">touch</span> <span style=\"background-color:rgba(135,206,250,0.044979453);\">of</span> <span style=\"background-color:rgba(135,206,250,0.116172835);\">mineral</span> <span style=\"background-color:rgba(135,206,250,0.2134768);\">clings</span> <span style=\"background-color:rgba(135,206,250,0.043286867);\">to</span> <span style=\"background-color:rgba(135,206,250,0.035056695);\">the</span> <span style=\"background-color:rgba(135,206,250,0.18119119);\">palate</span> <span style=\"background-color:rgba(135,206,250,0.048541076);\">of</span> <span style=\"background-color:rgba(135,206,250,0.09300553);\">this</span> <span style=\"background-color:rgba(135,206,250,0.16038601);\">dry</span> <span style=\"background-color:rgba(135,206,250,0.09014501);\">,</span> <span style=\"background-color:rgba(135,206,250,0.22918703);\">medium</span> <span style=\"background-color:rgba(135,206,250,0.08478081);\">-</span> <span style=\"background-color:rgba(135,206,250,0.23288542);\">bodied</span> <span style=\"background-color:rgba(135,206,250,0.2563734);\">riesling</span> <span style=\"background-color:rgba(135,206,250,1.0);\">.</span> <span style=\"background-color:rgba(135,206,250,0.415113);\">it</span> <span style=\"background-color:rgba(135,206,250,0.16380544);\">'</span> <span style=\"background-color:rgba(135,206,250,0.8251391);\">s</span> <span style=\"background-color:rgba(135,206,250,0.340687);\">a</span>"
      ],
      "text/plain": [
       "<IPython.core.display.HTML object>"
      ]
     },
     "metadata": {},
     "output_type": "display_data"
    },
    {
     "name": "stdout",
     "output_type": "stream",
     "text": [
      "bit:   \t84.52%\n",
      "little:   \t1.79%\n",
      "tad:   \t1.38%\n",
      "delicate:   \t0.97%\n",
      "shade:   \t0.96%\n",
      "--------\n",
      "\n"
     ]
    },
    {
     "data": {
      "text/html": [
       "<span style=\"background-color:rgba(135,206,250,0.18215485);\">wine</span> <span style=\"background-color:rgba(135,206,250,0.33858344);\">review</span> <span style=\"background-color:rgba(135,206,250,0.2530373);\">:</span> <span style=\"background-color:rgba(135,206,250,0.36268818);\">germany</span> <span style=\"background-color:rgba(135,206,250,0.089109704);\">:</span> <span style=\"background-color:rgba(135,206,250,0.22228667);\">rheinhessen</span> <span style=\"background-color:rgba(135,206,250,0.09665529);\">:</span> <span style=\"background-color:rgba(135,206,250,0.26082984);\">riesling</span> <span style=\"background-color:rgba(135,206,250,0.162903);\">:</span> <span style=\"background-color:rgba(135,206,250,0.069417045);\">a</span> <span style=\"background-color:rgba(135,206,250,0.06892769);\">touch</span> <span style=\"background-color:rgba(135,206,250,0.07014863);\">of</span> <span style=\"background-color:rgba(135,206,250,0.115834914);\">mineral</span> <span style=\"background-color:rgba(135,206,250,0.2016728);\">clings</span> <span style=\"background-color:rgba(135,206,250,0.06924196);\">to</span> <span style=\"background-color:rgba(135,206,250,0.055482797);\">the</span> <span style=\"background-color:rgba(135,206,250,0.088979855);\">palate</span> <span style=\"background-color:rgba(135,206,250,0.073222116);\">of</span> <span style=\"background-color:rgba(135,206,250,0.09709475);\">this</span> <span style=\"background-color:rgba(135,206,250,0.22834253);\">dry</span> <span style=\"background-color:rgba(135,206,250,0.18789275);\">,</span> <span style=\"background-color:rgba(135,206,250,0.19111072);\">medium</span> <span style=\"background-color:rgba(135,206,250,0.13306804);\">-</span> <span style=\"background-color:rgba(135,206,250,0.43504328);\">bodied</span> <span style=\"background-color:rgba(135,206,250,0.28635642);\">riesling</span> <span style=\"background-color:rgba(135,206,250,1.0);\">.</span> <span style=\"background-color:rgba(135,206,250,0.6215676);\">it</span> <span style=\"background-color:rgba(135,206,250,0.320456);\">'</span> <span style=\"background-color:rgba(135,206,250,0.7196013);\">s</span> <span style=\"background-color:rgba(135,206,250,0.54905206);\">a</span> <span style=\"background-color:rgba(135,206,250,0.21752979);\">bit</span>"
      ],
      "text/plain": [
       "<IPython.core.display.HTML object>"
      ]
     },
     "metadata": {},
     "output_type": "display_data"
    },
    {
     "name": "stdout",
     "output_type": "stream",
     "text": [
      "lean:   \t84.47%\n",
      "austere:   \t6.6%\n",
      "angular:   \t0.7%\n",
      "sharp:   \t0.58%\n",
      "tart:   \t0.58%\n",
      "--------\n",
      "\n"
     ]
    },
    {
     "data": {
      "text/html": [
       "<span style=\"background-color:rgba(135,206,250,0.1496616);\">wine</span> <span style=\"background-color:rgba(135,206,250,0.24872145);\">review</span> <span style=\"background-color:rgba(135,206,250,0.25072888);\">:</span> <span style=\"background-color:rgba(135,206,250,0.45243564);\">germany</span> <span style=\"background-color:rgba(135,206,250,0.06520949);\">:</span> <span style=\"background-color:rgba(135,206,250,0.19334905);\">rheinhessen</span> <span style=\"background-color:rgba(135,206,250,0.073785886);\">:</span> <span style=\"background-color:rgba(135,206,250,0.39754736);\">riesling</span> <span style=\"background-color:rgba(135,206,250,0.095375784);\">:</span> <span style=\"background-color:rgba(135,206,250,0.06439322);\">a</span> <span style=\"background-color:rgba(135,206,250,0.06631043);\">touch</span> <span style=\"background-color:rgba(135,206,250,0.05817191);\">of</span> <span style=\"background-color:rgba(135,206,250,0.06299182);\">mineral</span> <span style=\"background-color:rgba(135,206,250,0.09388549);\">clings</span> <span style=\"background-color:rgba(135,206,250,0.06496161);\">to</span> <span style=\"background-color:rgba(135,206,250,0.04836843);\">the</span> <span style=\"background-color:rgba(135,206,250,0.17383873);\">palate</span> <span style=\"background-color:rgba(135,206,250,0.053305812);\">of</span> <span style=\"background-color:rgba(135,206,250,0.07319623);\">this</span> <span style=\"background-color:rgba(135,206,250,0.0639584);\">dry</span> <span style=\"background-color:rgba(135,206,250,0.07295219);\">,</span> <span style=\"background-color:rgba(135,206,250,0.08054538);\">medium</span> <span style=\"background-color:rgba(135,206,250,0.037967157);\">-</span> <span style=\"background-color:rgba(135,206,250,0.11299774);\">bodied</span> <span style=\"background-color:rgba(135,206,250,0.22905363);\">riesling</span> <span style=\"background-color:rgba(135,206,250,0.5624896);\">.</span> <span style=\"background-color:rgba(135,206,250,0.3757531);\">it</span> <span style=\"background-color:rgba(135,206,250,0.08765334);\">'</span> <span style=\"background-color:rgba(135,206,250,0.71055144);\">s</span> <span style=\"background-color:rgba(135,206,250,1.0);\">a</span> <span style=\"background-color:rgba(135,206,250,0.8739197);\">bit</span> <span style=\"background-color:rgba(135,206,250,0.41743696);\">lean</span>"
      ],
      "text/plain": [
       "<IPython.core.display.HTML object>"
      ]
     },
     "metadata": {},
     "output_type": "display_data"
    },
    {
     "name": "stdout",
     "output_type": "stream",
     "text": [
      ",:   \t49.68%\n",
      "and:   \t20.81%\n",
      "in:   \t15.11%\n",
      "on:   \t13.01%\n",
      "but:   \t0.91%\n",
      "--------\n",
      "\n"
     ]
    },
    {
     "data": {
      "text/html": [
       "<span style=\"background-color:rgba(135,206,250,0.05633122);\">wine</span> <span style=\"background-color:rgba(135,206,250,0.12816082);\">review</span> <span style=\"background-color:rgba(135,206,250,0.15158866);\">:</span> <span style=\"background-color:rgba(135,206,250,0.20960341);\">germany</span> <span style=\"background-color:rgba(135,206,250,0.03276994);\">:</span> <span style=\"background-color:rgba(135,206,250,0.10208149);\">rheinhessen</span> <span style=\"background-color:rgba(135,206,250,0.031978846);\">:</span> <span style=\"background-color:rgba(135,206,250,0.20154814);\">riesling</span> <span style=\"background-color:rgba(135,206,250,0.048610304);\">:</span> <span style=\"background-color:rgba(135,206,250,0.02711799);\">a</span> <span style=\"background-color:rgba(135,206,250,0.03943028);\">touch</span> <span style=\"background-color:rgba(135,206,250,0.033544283);\">of</span> <span style=\"background-color:rgba(135,206,250,0.05734744);\">mineral</span> <span style=\"background-color:rgba(135,206,250,0.135488);\">clings</span> <span style=\"background-color:rgba(135,206,250,0.024903435);\">to</span> <span style=\"background-color:rgba(135,206,250,0.025383718);\">the</span> <span style=\"background-color:rgba(135,206,250,0.06960698);\">palate</span> <span style=\"background-color:rgba(135,206,250,0.033870995);\">of</span> <span style=\"background-color:rgba(135,206,250,0.089530855);\">this</span> <span style=\"background-color:rgba(135,206,250,0.07711468);\">dry</span> <span style=\"background-color:rgba(135,206,250,0.0393572);\">,</span> <span style=\"background-color:rgba(135,206,250,0.082226135);\">medium</span> <span style=\"background-color:rgba(135,206,250,0.03318757);\">-</span> <span style=\"background-color:rgba(135,206,250,0.08123685);\">bodied</span> <span style=\"background-color:rgba(135,206,250,0.13050257);\">riesling</span> <span style=\"background-color:rgba(135,206,250,0.36026958);\">.</span> <span style=\"background-color:rgba(135,206,250,0.20955952);\">it</span> <span style=\"background-color:rgba(135,206,250,0.032862104);\">'</span> <span style=\"background-color:rgba(135,206,250,0.35994163);\">s</span> <span style=\"background-color:rgba(135,206,250,0.30826977);\">a</span> <span style=\"background-color:rgba(135,206,250,0.47359872);\">bit</span> <span style=\"background-color:rgba(135,206,250,1.0);\">lean</span> <span style=\"background-color:rgba(135,206,250,0.35729182);\">,</span>"
      ],
      "text/plain": [
       "<IPython.core.display.HTML object>"
      ]
     },
     "metadata": {},
     "output_type": "display_data"
    },
    {
     "name": "stdout",
     "output_type": "stream",
     "text": [
      "but:   \t62.96%\n",
      "with:   \t35.54%\n",
      "and:   \t0.51%\n",
      "offering:   \t0.22%\n",
      "yet:   \t0.19%\n",
      "--------\n",
      "\n"
     ]
    },
    {
     "data": {
      "text/html": [
       "<span style=\"background-color:rgba(135,206,250,0.1074754);\">wine</span> <span style=\"background-color:rgba(135,206,250,0.1890658);\">review</span> <span style=\"background-color:rgba(135,206,250,0.2618841);\">:</span> <span style=\"background-color:rgba(135,206,250,0.391883);\">germany</span> <span style=\"background-color:rgba(135,206,250,0.04602998);\">:</span> <span style=\"background-color:rgba(135,206,250,0.1680472);\">rheinhessen</span> <span style=\"background-color:rgba(135,206,250,0.056879304);\">:</span> <span style=\"background-color:rgba(135,206,250,0.16537438);\">riesling</span> <span style=\"background-color:rgba(135,206,250,0.061410084);\">:</span> <span style=\"background-color:rgba(135,206,250,0.077127874);\">a</span> <span style=\"background-color:rgba(135,206,250,0.10486787);\">touch</span> <span style=\"background-color:rgba(135,206,250,0.05246441);\">of</span> <span style=\"background-color:rgba(135,206,250,0.067231044);\">mineral</span> <span style=\"background-color:rgba(135,206,250,0.30432597);\">clings</span> <span style=\"background-color:rgba(135,206,250,0.047355287);\">to</span> <span style=\"background-color:rgba(135,206,250,0.053714525);\">the</span> <span style=\"background-color:rgba(135,206,250,0.08527291);\">palate</span> <span style=\"background-color:rgba(135,206,250,0.046742585);\">of</span> <span style=\"background-color:rgba(135,206,250,0.111948);\">this</span> <span style=\"background-color:rgba(135,206,250,0.0625033);\">dry</span> <span style=\"background-color:rgba(135,206,250,0.077968486);\">,</span> <span style=\"background-color:rgba(135,206,250,0.07458177);\">medium</span> <span style=\"background-color:rgba(135,206,250,0.05537889);\">-</span> <span style=\"background-color:rgba(135,206,250,0.1220964);\">bodied</span> <span style=\"background-color:rgba(135,206,250,0.14464207);\">riesling</span> <span style=\"background-color:rgba(135,206,250,0.38869518);\">.</span> <span style=\"background-color:rgba(135,206,250,0.21090993);\">it</span> <span style=\"background-color:rgba(135,206,250,0.081836514);\">'</span> <span style=\"background-color:rgba(135,206,250,0.33676347);\">s</span> <span style=\"background-color:rgba(135,206,250,0.3533156);\">a</span> <span style=\"background-color:rgba(135,206,250,0.3386775);\">bit</span> <span style=\"background-color:rgba(135,206,250,0.48639697);\">lean</span> <span style=\"background-color:rgba(135,206,250,1.0);\">,</span> <span style=\"background-color:rgba(135,206,250,0.3950982);\">but</span>"
      ],
      "text/plain": [
       "<IPython.core.display.HTML object>"
      ]
     },
     "metadata": {},
     "output_type": "display_data"
    },
    {
     "name": "stdout",
     "output_type": "stream",
     "text": [
      "it:   \t34.68%\n",
      "the:   \t17.96%\n",
      "quite:   \t8.6%\n",
      "also:   \t5.52%\n",
      "a:   \t4.84%\n",
      "--------\n",
      "\n"
     ]
    },
    {
     "data": {
      "text/html": [
       "<span style=\"background-color:rgba(135,206,250,0.0827638);\">wine</span> <span style=\"background-color:rgba(135,206,250,0.14194497);\">review</span> <span style=\"background-color:rgba(135,206,250,0.26217797);\">:</span> <span style=\"background-color:rgba(135,206,250,0.29597473);\">germany</span> <span style=\"background-color:rgba(135,206,250,0.03987887);\">:</span> <span style=\"background-color:rgba(135,206,250,0.1263227);\">rheinhessen</span> <span style=\"background-color:rgba(135,206,250,0.039171863);\">:</span> <span style=\"background-color:rgba(135,206,250,0.10031869);\">riesling</span> <span style=\"background-color:rgba(135,206,250,0.049100794);\">:</span> <span style=\"background-color:rgba(135,206,250,0.04372376);\">a</span> <span style=\"background-color:rgba(135,206,250,0.065028);\">touch</span> <span style=\"background-color:rgba(135,206,250,0.03285127);\">of</span> <span style=\"background-color:rgba(135,206,250,0.06277027);\">mineral</span> <span style=\"background-color:rgba(135,206,250,0.14208655);\">clings</span> <span style=\"background-color:rgba(135,206,250,0.03527667);\">to</span> <span style=\"background-color:rgba(135,206,250,0.022209309);\">the</span> <span style=\"background-color:rgba(135,206,250,0.07641815);\">palate</span> <span style=\"background-color:rgba(135,206,250,0.030108504);\">of</span> <span style=\"background-color:rgba(135,206,250,0.041093808);\">this</span> <span style=\"background-color:rgba(135,206,250,0.08707135);\">dry</span> <span style=\"background-color:rgba(135,206,250,0.040275082);\">,</span> <span style=\"background-color:rgba(135,206,250,0.10320208);\">medium</span> <span style=\"background-color:rgba(135,206,250,0.02938593);\">-</span> <span style=\"background-color:rgba(135,206,250,0.10689279);\">bodied</span> <span style=\"background-color:rgba(135,206,250,0.06687559);\">riesling</span> <span style=\"background-color:rgba(135,206,250,0.1585232);\">.</span> <span style=\"background-color:rgba(135,206,250,0.03602846);\">it</span> <span style=\"background-color:rgba(135,206,250,0.03504654);\">'</span> <span style=\"background-color:rgba(135,206,250,0.11897606);\">s</span> <span style=\"background-color:rgba(135,206,250,0.1448355);\">a</span> <span style=\"background-color:rgba(135,206,250,0.13569202);\">bit</span> <span style=\"background-color:rgba(135,206,250,0.37178183);\">lean</span> <span style=\"background-color:rgba(135,206,250,0.5665546);\">,</span> <span style=\"background-color:rgba(135,206,250,1.0);\">but</span> <span style=\"background-color:rgba(135,206,250,0.31310892);\">it</span>"
      ],
      "text/plain": [
       "<IPython.core.display.HTML object>"
      ]
     },
     "metadata": {},
     "output_type": "display_data"
    },
    {
     "name": "stdout",
     "output_type": "stream",
     "text": [
      "':   \t81.84%\n",
      "finishes:   \t7.89%\n",
      "is:   \t3.17%\n",
      "offers:   \t1.66%\n",
      "has:   \t1.47%\n",
      "--------\n",
      "\n"
     ]
    },
    {
     "data": {
      "text/html": [
       "<span style=\"background-color:rgba(135,206,250,0.0763969);\">wine</span> <span style=\"background-color:rgba(135,206,250,0.1405407);\">review</span> <span style=\"background-color:rgba(135,206,250,0.0556701);\">:</span> <span style=\"background-color:rgba(135,206,250,0.123763345);\">germany</span> <span style=\"background-color:rgba(135,206,250,0.03003039);\">:</span> <span style=\"background-color:rgba(135,206,250,0.08550981);\">rheinhessen</span> <span style=\"background-color:rgba(135,206,250,0.02757156);\">:</span> <span style=\"background-color:rgba(135,206,250,0.13376792);\">riesling</span> <span style=\"background-color:rgba(135,206,250,0.031250924);\">:</span> <span style=\"background-color:rgba(135,206,250,0.022130392);\">a</span> <span style=\"background-color:rgba(135,206,250,0.027350422);\">touch</span> <span style=\"background-color:rgba(135,206,250,0.02341863);\">of</span> <span style=\"background-color:rgba(135,206,250,0.027276171);\">mineral</span> <span style=\"background-color:rgba(135,206,250,0.03301172);\">clings</span> <span style=\"background-color:rgba(135,206,250,0.021632772);\">to</span> <span style=\"background-color:rgba(135,206,250,0.02113368);\">the</span> <span style=\"background-color:rgba(135,206,250,0.04993582);\">palate</span> <span style=\"background-color:rgba(135,206,250,0.02319959);\">of</span> <span style=\"background-color:rgba(135,206,250,0.029374108);\">this</span> <span style=\"background-color:rgba(135,206,250,0.028385492);\">dry</span> <span style=\"background-color:rgba(135,206,250,0.03267423);\">,</span> <span style=\"background-color:rgba(135,206,250,0.029043207);\">medium</span> <span style=\"background-color:rgba(135,206,250,0.0213963);\">-</span> <span style=\"background-color:rgba(135,206,250,0.04204871);\">bodied</span> <span style=\"background-color:rgba(135,206,250,0.06589931);\">riesling</span> <span style=\"background-color:rgba(135,206,250,0.08079615);\">.</span> <span style=\"background-color:rgba(135,206,250,0.074588224);\">it</span> <span style=\"background-color:rgba(135,206,250,0.025043093);\">'</span> <span style=\"background-color:rgba(135,206,250,0.08600875);\">s</span> <span style=\"background-color:rgba(135,206,250,0.05207936);\">a</span> <span style=\"background-color:rgba(135,206,250,0.067086354);\">bit</span> <span style=\"background-color:rgba(135,206,250,0.10653145);\">lean</span> <span style=\"background-color:rgba(135,206,250,0.21941556);\">,</span> <span style=\"background-color:rgba(135,206,250,0.38283753);\">but</span> <span style=\"background-color:rgba(135,206,250,1.0);\">it</span> <span style=\"background-color:rgba(135,206,250,0.07543394);\">'</span>"
      ],
      "text/plain": [
       "<IPython.core.display.HTML object>"
      ]
     },
     "metadata": {},
     "output_type": "display_data"
    },
    {
     "name": "stdout",
     "output_type": "stream",
     "text": [
      "s:   \t100.0%\n",
      "ll:   \t0.0%\n",
      "[UNK]:   \t0.0%\n",
      "re:   \t0.0%\n",
      "nuanced:   \t0.0%\n",
      "--------\n",
      "\n"
     ]
    },
    {
     "data": {
      "text/html": [
       "<span style=\"background-color:rgba(135,206,250,0.09545737);\">wine</span> <span style=\"background-color:rgba(135,206,250,0.16712362);\">review</span> <span style=\"background-color:rgba(135,206,250,0.2330696);\">:</span> <span style=\"background-color:rgba(135,206,250,0.34368697);\">germany</span> <span style=\"background-color:rgba(135,206,250,0.037843242);\">:</span> <span style=\"background-color:rgba(135,206,250,0.14536983);\">rheinhessen</span> <span style=\"background-color:rgba(135,206,250,0.039935637);\">:</span> <span style=\"background-color:rgba(135,206,250,0.27141896);\">riesling</span> <span style=\"background-color:rgba(135,206,250,0.05949234);\">:</span> <span style=\"background-color:rgba(135,206,250,0.036542665);\">a</span> <span style=\"background-color:rgba(135,206,250,0.044071328);\">touch</span> <span style=\"background-color:rgba(135,206,250,0.030651156);\">of</span> <span style=\"background-color:rgba(135,206,250,0.07331326);\">mineral</span> <span style=\"background-color:rgba(135,206,250,0.09248224);\">clings</span> <span style=\"background-color:rgba(135,206,250,0.029341029);\">to</span> <span style=\"background-color:rgba(135,206,250,0.027262354);\">the</span> <span style=\"background-color:rgba(135,206,250,0.07748234);\">palate</span> <span style=\"background-color:rgba(135,206,250,0.028716333);\">of</span> <span style=\"background-color:rgba(135,206,250,0.045963254);\">this</span> <span style=\"background-color:rgba(135,206,250,0.10406471);\">dry</span> <span style=\"background-color:rgba(135,206,250,0.042770665);\">,</span> <span style=\"background-color:rgba(135,206,250,0.12712379);\">medium</span> <span style=\"background-color:rgba(135,206,250,0.02706485);\">-</span> <span style=\"background-color:rgba(135,206,250,0.114435196);\">bodied</span> <span style=\"background-color:rgba(135,206,250,0.10785706);\">riesling</span> <span style=\"background-color:rgba(135,206,250,0.2019956);\">.</span> <span style=\"background-color:rgba(135,206,250,0.09378771);\">it</span> <span style=\"background-color:rgba(135,206,250,0.024777355);\">'</span> <span style=\"background-color:rgba(135,206,250,0.061520312);\">s</span> <span style=\"background-color:rgba(135,206,250,0.07878502);\">a</span> <span style=\"background-color:rgba(135,206,250,0.087786615);\">bit</span> <span style=\"background-color:rgba(135,206,250,0.32258666);\">lean</span> <span style=\"background-color:rgba(135,206,250,0.4334961);\">,</span> <span style=\"background-color:rgba(135,206,250,1.0);\">but</span> <span style=\"background-color:rgba(135,206,250,0.977654);\">it</span> <span style=\"background-color:rgba(135,206,250,0.10419814);\">'</span> <span style=\"background-color:rgba(135,206,250,0.2417275);\">s</span>"
      ],
      "text/plain": [
       "<IPython.core.display.HTML object>"
      ]
     },
     "metadata": {},
     "output_type": "display_data"
    },
    {
     "name": "stdout",
     "output_type": "stream",
     "text": [
      "a:   \t71.29%\n",
      "also:   \t7.79%\n",
      "quite:   \t3.45%\n",
      "not:   \t2.65%\n",
      "an:   \t2.17%\n",
      "--------\n",
      "\n"
     ]
    },
    {
     "data": {
      "text/html": [
       "<span style=\"background-color:rgba(135,206,250,0.06889275);\">wine</span> <span style=\"background-color:rgba(135,206,250,0.115487866);\">review</span> <span style=\"background-color:rgba(135,206,250,0.25189936);\">:</span> <span style=\"background-color:rgba(135,206,250,0.30703875);\">germany</span> <span style=\"background-color:rgba(135,206,250,0.031968635);\">:</span> <span style=\"background-color:rgba(135,206,250,0.12347139);\">rheinhessen</span> <span style=\"background-color:rgba(135,206,250,0.03286899);\">:</span> <span style=\"background-color:rgba(135,206,250,0.22748557);\">riesling</span> <span style=\"background-color:rgba(135,206,250,0.048036277);\">:</span> <span style=\"background-color:rgba(135,206,250,0.026618693);\">a</span> <span style=\"background-color:rgba(135,206,250,0.041374594);\">touch</span> <span style=\"background-color:rgba(135,206,250,0.024407744);\">of</span> <span style=\"background-color:rgba(135,206,250,0.080945864);\">mineral</span> <span style=\"background-color:rgba(135,206,250,0.11098376);\">clings</span> <span style=\"background-color:rgba(135,206,250,0.021164682);\">to</span> <span style=\"background-color:rgba(135,206,250,0.018599806);\">the</span> <span style=\"background-color:rgba(135,206,250,0.11165073);\">palate</span> <span style=\"background-color:rgba(135,206,250,0.023373796);\">of</span> <span style=\"background-color:rgba(135,206,250,0.042988446);\">this</span> <span style=\"background-color:rgba(135,206,250,0.09454983);\">dry</span> <span style=\"background-color:rgba(135,206,250,0.035573654);\">,</span> <span style=\"background-color:rgba(135,206,250,0.13628362);\">medium</span> <span style=\"background-color:rgba(135,206,250,0.02625441);\">-</span> <span style=\"background-color:rgba(135,206,250,0.091820136);\">bodied</span> <span style=\"background-color:rgba(135,206,250,0.090090446);\">riesling</span> <span style=\"background-color:rgba(135,206,250,0.14954916);\">.</span> <span style=\"background-color:rgba(135,206,250,0.06001026);\">it</span> <span style=\"background-color:rgba(135,206,250,0.018436175);\">'</span> <span style=\"background-color:rgba(135,206,250,0.08421088);\">s</span> <span style=\"background-color:rgba(135,206,250,0.038528945);\">a</span> <span style=\"background-color:rgba(135,206,250,0.09324663);\">bit</span> <span style=\"background-color:rgba(135,206,250,0.30412492);\">lean</span> <span style=\"background-color:rgba(135,206,250,0.2769647);\">,</span> <span style=\"background-color:rgba(135,206,250,0.37866026);\">but</span> <span style=\"background-color:rgba(135,206,250,0.48491162);\">it</span> <span style=\"background-color:rgba(135,206,250,0.115101025);\">'</span> <span style=\"background-color:rgba(135,206,250,1.0);\">s</span> <span style=\"background-color:rgba(135,206,250,0.35190132);\">a</span>"
      ],
      "text/plain": [
       "<IPython.core.display.HTML object>"
      ]
     },
     "metadata": {},
     "output_type": "display_data"
    },
    {
     "name": "stdout",
     "output_type": "stream",
     "text": [
      "bit:   \t87.62%\n",
      "pleasant:   \t2.59%\n",
      "tad:   \t2.35%\n",
      "little:   \t2.04%\n",
      "thirst:   \t1.15%\n",
      "--------\n",
      "\n"
     ]
    },
    {
     "data": {
      "text/html": [
       "<span style=\"background-color:rgba(135,206,250,0.2342099);\">wine</span> <span style=\"background-color:rgba(135,206,250,0.46784976);\">review</span> <span style=\"background-color:rgba(135,206,250,0.74740475);\">:</span> <span style=\"background-color:rgba(135,206,250,0.46758008);\">germany</span> <span style=\"background-color:rgba(135,206,250,0.13051829);\">:</span> <span style=\"background-color:rgba(135,206,250,0.24018326);\">rheinhessen</span> <span style=\"background-color:rgba(135,206,250,0.13383704);\">:</span> <span style=\"background-color:rgba(135,206,250,0.3228696);\">riesling</span> <span style=\"background-color:rgba(135,206,250,0.18385889);\">:</span> <span style=\"background-color:rgba(135,206,250,0.07298493);\">a</span> <span style=\"background-color:rgba(135,206,250,0.059489913);\">touch</span> <span style=\"background-color:rgba(135,206,250,0.07875484);\">of</span> <span style=\"background-color:rgba(135,206,250,0.102937296);\">mineral</span> <span style=\"background-color:rgba(135,206,250,0.16620561);\">clings</span> <span style=\"background-color:rgba(135,206,250,0.06241599);\">to</span> <span style=\"background-color:rgba(135,206,250,0.052302286);\">the</span> <span style=\"background-color:rgba(135,206,250,0.113592364);\">palate</span> <span style=\"background-color:rgba(135,206,250,0.08005239);\">of</span> <span style=\"background-color:rgba(135,206,250,0.11767011);\">this</span> <span style=\"background-color:rgba(135,206,250,0.14755291);\">dry</span> <span style=\"background-color:rgba(135,206,250,0.11853299);\">,</span> <span style=\"background-color:rgba(135,206,250,0.112976);\">medium</span> <span style=\"background-color:rgba(135,206,250,0.07876887);\">-</span> <span style=\"background-color:rgba(135,206,250,0.18098663);\">bodied</span> <span style=\"background-color:rgba(135,206,250,0.14982459);\">riesling</span> <span style=\"background-color:rgba(135,206,250,0.43209714);\">.</span> <span style=\"background-color:rgba(135,206,250,0.22096696);\">it</span> <span style=\"background-color:rgba(135,206,250,0.09507278);\">'</span> <span style=\"background-color:rgba(135,206,250,0.16246824);\">s</span> <span style=\"background-color:rgba(135,206,250,0.15078153);\">a</span> <span style=\"background-color:rgba(135,206,250,0.09186842);\">bit</span> <span style=\"background-color:rgba(135,206,250,0.57604444);\">lean</span> <span style=\"background-color:rgba(135,206,250,0.7173742);\">,</span> <span style=\"background-color:rgba(135,206,250,0.6404839);\">but</span> <span style=\"background-color:rgba(135,206,250,0.981579);\">it</span> <span style=\"background-color:rgba(135,206,250,0.52574545);\">'</span> <span style=\"background-color:rgba(135,206,250,0.92791647);\">s</span> <span style=\"background-color:rgba(135,206,250,1.0);\">a</span> <span style=\"background-color:rgba(135,206,250,0.60799205);\">tad</span>"
      ],
      "text/plain": [
       "<IPython.core.display.HTML object>"
      ]
     },
     "metadata": {},
     "output_type": "display_data"
    },
    {
     "name": "stdout",
     "output_type": "stream",
     "text": [
      "lean:   \t37.26%\n",
      "lacking:   \t12.37%\n",
      "more:   \t8.26%\n",
      "tart:   \t8.17%\n",
      "watery:   \t7.72%\n",
      "--------\n",
      "\n"
     ]
    },
    {
     "data": {
      "text/html": [
       "<span style=\"background-color:rgba(135,206,250,0.054954447);\">wine</span> <span style=\"background-color:rgba(135,206,250,0.0930891);\">review</span> <span style=\"background-color:rgba(135,206,250,0.063059196);\">:</span> <span style=\"background-color:rgba(135,206,250,0.24127933);\">germany</span> <span style=\"background-color:rgba(135,206,250,0.02802849);\">:</span> <span style=\"background-color:rgba(135,206,250,0.10167214);\">rheinhessen</span> <span style=\"background-color:rgba(135,206,250,0.02947089);\">:</span> <span style=\"background-color:rgba(135,206,250,0.21769875);\">riesling</span> <span style=\"background-color:rgba(135,206,250,0.038120776);\">:</span> <span style=\"background-color:rgba(135,206,250,0.023883736);\">a</span> <span style=\"background-color:rgba(135,206,250,0.024997264);\">touch</span> <span style=\"background-color:rgba(135,206,250,0.021343067);\">of</span> <span style=\"background-color:rgba(135,206,250,0.026990982);\">mineral</span> <span style=\"background-color:rgba(135,206,250,0.03208261);\">clings</span> <span style=\"background-color:rgba(135,206,250,0.02201679);\">to</span> <span style=\"background-color:rgba(135,206,250,0.01704686);\">the</span> <span style=\"background-color:rgba(135,206,250,0.07030787);\">palate</span> <span style=\"background-color:rgba(135,206,250,0.01792033);\">of</span> <span style=\"background-color:rgba(135,206,250,0.022055848);\">this</span> <span style=\"background-color:rgba(135,206,250,0.02468349);\">dry</span> <span style=\"background-color:rgba(135,206,250,0.023697764);\">,</span> <span style=\"background-color:rgba(135,206,250,0.028485985);\">medium</span> <span style=\"background-color:rgba(135,206,250,0.011005799);\">-</span> <span style=\"background-color:rgba(135,206,250,0.039801627);\">bodied</span> <span style=\"background-color:rgba(135,206,250,0.06365109);\">riesling</span> <span style=\"background-color:rgba(135,206,250,0.092502356);\">.</span> <span style=\"background-color:rgba(135,206,250,0.04533846);\">it</span> <span style=\"background-color:rgba(135,206,250,0.014483503);\">'</span> <span style=\"background-color:rgba(135,206,250,0.047487594);\">s</span> <span style=\"background-color:rgba(135,206,250,0.037852004);\">a</span> <span style=\"background-color:rgba(135,206,250,0.05240384);\">bit</span> <span style=\"background-color:rgba(135,206,250,0.05611891);\">lean</span> <span style=\"background-color:rgba(135,206,250,0.06887005);\">,</span> <span style=\"background-color:rgba(135,206,250,0.089178436);\">but</span> <span style=\"background-color:rgba(135,206,250,0.21211593);\">it</span> <span style=\"background-color:rgba(135,206,250,0.037038);\">'</span> <span style=\"background-color:rgba(135,206,250,0.32938132);\">s</span> <span style=\"background-color:rgba(135,206,250,0.4346529);\">a</span> <span style=\"background-color:rgba(135,206,250,1.0);\">tad</span> <span style=\"background-color:rgba(135,206,250,0.21345659);\">lean</span>"
      ],
      "text/plain": [
       "<IPython.core.display.HTML object>"
      ]
     },
     "metadata": {},
     "output_type": "display_data"
    },
    {
     "name": "stdout",
     "output_type": "stream",
     "text": [
      "in:   \t35.73%\n",
      ",:   \t30.73%\n",
      "on:   \t20.76%\n",
      "and:   \t10.07%\n",
      ".:   \t1.38%\n",
      "--------\n",
      "\n"
     ]
    },
    {
     "data": {
      "text/html": [
       "<span style=\"background-color:rgba(135,206,250,0.042077888);\">wine</span> <span style=\"background-color:rgba(135,206,250,0.07325259);\">review</span> <span style=\"background-color:rgba(135,206,250,0.080959596);\">:</span> <span style=\"background-color:rgba(135,206,250,0.18738885);\">germany</span> <span style=\"background-color:rgba(135,206,250,0.022979125);\">:</span> <span style=\"background-color:rgba(135,206,250,0.09366213);\">rheinhessen</span> <span style=\"background-color:rgba(135,206,250,0.022359617);\">:</span> <span style=\"background-color:rgba(135,206,250,0.13736293);\">riesling</span> <span style=\"background-color:rgba(135,206,250,0.0223006);\">:</span> <span style=\"background-color:rgba(135,206,250,0.024018526);\">a</span> <span style=\"background-color:rgba(135,206,250,0.032904234);\">touch</span> <span style=\"background-color:rgba(135,206,250,0.012974254);\">of</span> <span style=\"background-color:rgba(135,206,250,0.032815695);\">mineral</span> <span style=\"background-color:rgba(135,206,250,0.047732923);\">clings</span> <span style=\"background-color:rgba(135,206,250,0.011666437);\">to</span> <span style=\"background-color:rgba(135,206,250,0.011381473);\">the</span> <span style=\"background-color:rgba(135,206,250,0.0663288);\">palate</span> <span style=\"background-color:rgba(135,206,250,0.011857414);\">of</span> <span style=\"background-color:rgba(135,206,250,0.038920168);\">this</span> <span style=\"background-color:rgba(135,206,250,0.031775657);\">dry</span> <span style=\"background-color:rgba(135,206,250,0.021339318);\">,</span> <span style=\"background-color:rgba(135,206,250,0.03275771);\">medium</span> <span style=\"background-color:rgba(135,206,250,0.011358647);\">-</span> <span style=\"background-color:rgba(135,206,250,0.03928069);\">bodied</span> <span style=\"background-color:rgba(135,206,250,0.044448834);\">riesling</span> <span style=\"background-color:rgba(135,206,250,0.081672765);\">.</span> <span style=\"background-color:rgba(135,206,250,0.044252053);\">it</span> <span style=\"background-color:rgba(135,206,250,0.013085607);\">'</span> <span style=\"background-color:rgba(135,206,250,0.035677675);\">s</span> <span style=\"background-color:rgba(135,206,250,0.030724734);\">a</span> <span style=\"background-color:rgba(135,206,250,0.04980702);\">bit</span> <span style=\"background-color:rgba(135,206,250,0.088545345);\">lean</span> <span style=\"background-color:rgba(135,206,250,0.087616004);\">,</span> <span style=\"background-color:rgba(135,206,250,0.12880427);\">but</span> <span style=\"background-color:rgba(135,206,250,0.1091899);\">it</span> <span style=\"background-color:rgba(135,206,250,0.028021099);\">'</span> <span style=\"background-color:rgba(135,206,250,0.15255743);\">s</span> <span style=\"background-color:rgba(135,206,250,0.18876734);\">a</span> <span style=\"background-color:rgba(135,206,250,0.29059657);\">tad</span> <span style=\"background-color:rgba(135,206,250,1.0);\">lean</span> <span style=\"background-color:rgba(135,206,250,0.12262136);\">in</span>"
      ],
      "text/plain": [
       "<IPython.core.display.HTML object>"
      ]
     },
     "metadata": {},
     "output_type": "display_data"
    },
    {
     "name": "stdout",
     "output_type": "stream",
     "text": [
      "style:   \t77.39%\n",
      "texture:   \t12.43%\n",
      "profile:   \t4.2%\n",
      "body:   \t2.65%\n",
      "feel:   \t0.87%\n",
      "--------\n",
      "\n"
     ]
    },
    {
     "data": {
      "text/html": [
       "<span style=\"background-color:rgba(135,206,250,0.08636165);\">wine</span> <span style=\"background-color:rgba(135,206,250,0.16362478);\">review</span> <span style=\"background-color:rgba(135,206,250,0.21718867);\">:</span> <span style=\"background-color:rgba(135,206,250,0.21283875);\">germany</span> <span style=\"background-color:rgba(135,206,250,0.05276719);\">:</span> <span style=\"background-color:rgba(135,206,250,0.084421255);\">rheinhessen</span> <span style=\"background-color:rgba(135,206,250,0.05531422);\">:</span> <span style=\"background-color:rgba(135,206,250,0.2779994);\">riesling</span> <span style=\"background-color:rgba(135,206,250,0.088797994);\">:</span> <span style=\"background-color:rgba(135,206,250,0.04268535);\">a</span> <span style=\"background-color:rgba(135,206,250,0.023908809);\">touch</span> <span style=\"background-color:rgba(135,206,250,0.024865953);\">of</span> <span style=\"background-color:rgba(135,206,250,0.028223185);\">mineral</span> <span style=\"background-color:rgba(135,206,250,0.050735127);\">clings</span> <span style=\"background-color:rgba(135,206,250,0.024271296);\">to</span> <span style=\"background-color:rgba(135,206,250,0.031534143);\">the</span> <span style=\"background-color:rgba(135,206,250,0.058612436);\">palate</span> <span style=\"background-color:rgba(135,206,250,0.019159762);\">of</span> <span style=\"background-color:rgba(135,206,250,0.03958121);\">this</span> <span style=\"background-color:rgba(135,206,250,0.02191821);\">dry</span> <span style=\"background-color:rgba(135,206,250,0.031261653);\">,</span> <span style=\"background-color:rgba(135,206,250,0.025835222);\">medium</span> <span style=\"background-color:rgba(135,206,250,0.01966461);\">-</span> <span style=\"background-color:rgba(135,206,250,0.03322935);\">bodied</span> <span style=\"background-color:rgba(135,206,250,0.08750894);\">riesling</span> <span style=\"background-color:rgba(135,206,250,0.18436061);\">.</span> <span style=\"background-color:rgba(135,206,250,0.1226584);\">it</span> <span style=\"background-color:rgba(135,206,250,0.020986812);\">'</span> <span style=\"background-color:rgba(135,206,250,0.05867086);\">s</span> <span style=\"background-color:rgba(135,206,250,0.055590834);\">a</span> <span style=\"background-color:rgba(135,206,250,0.053534657);\">bit</span> <span style=\"background-color:rgba(135,206,250,0.10431659);\">lean</span> <span style=\"background-color:rgba(135,206,250,0.11748567);\">,</span> <span style=\"background-color:rgba(135,206,250,0.2300063);\">but</span> <span style=\"background-color:rgba(135,206,250,0.3330574);\">it</span> <span style=\"background-color:rgba(135,206,250,0.09558088);\">'</span> <span style=\"background-color:rgba(135,206,250,0.23928119);\">s</span> <span style=\"background-color:rgba(135,206,250,0.32778445);\">a</span> <span style=\"background-color:rgba(135,206,250,0.43418756);\">tad</span> <span style=\"background-color:rgba(135,206,250,0.5304391);\">lean</span> <span style=\"background-color:rgba(135,206,250,1.0);\">in</span> <span style=\"background-color:rgba(135,206,250,0.54276735);\">style</span>"
      ],
      "text/plain": [
       "<IPython.core.display.HTML object>"
      ]
     },
     "metadata": {},
     "output_type": "display_data"
    },
    {
     "name": "stdout",
     "output_type": "stream",
     "text": [
      ",:   \t84.43%\n",
      "with:   \t13.19%\n",
      ".:   \t1.7%\n",
      "and:   \t0.4%\n",
      "but:   \t0.09%\n",
      "--------\n",
      "\n"
     ]
    },
    {
     "data": {
      "text/html": [
       "<span style=\"background-color:rgba(135,206,250,0.094341196);\">wine</span> <span style=\"background-color:rgba(135,206,250,0.16526052);\">review</span> <span style=\"background-color:rgba(135,206,250,0.44204456);\">:</span> <span style=\"background-color:rgba(135,206,250,0.44400784);\">germany</span> <span style=\"background-color:rgba(135,206,250,0.054586347);\">:</span> <span style=\"background-color:rgba(135,206,250,0.23333117);\">rheinhessen</span> <span style=\"background-color:rgba(135,206,250,0.046461422);\">:</span> <span style=\"background-color:rgba(135,206,250,0.42046434);\">riesling</span> <span style=\"background-color:rgba(135,206,250,0.06209132);\">:</span> <span style=\"background-color:rgba(135,206,250,0.054408666);\">a</span> <span style=\"background-color:rgba(135,206,250,0.05264106);\">touch</span> <span style=\"background-color:rgba(135,206,250,0.029995706);\">of</span> <span style=\"background-color:rgba(135,206,250,0.10930693);\">mineral</span> <span style=\"background-color:rgba(135,206,250,0.103639334);\">clings</span> <span style=\"background-color:rgba(135,206,250,0.030680202);\">to</span> <span style=\"background-color:rgba(135,206,250,0.026827982);\">the</span> <span style=\"background-color:rgba(135,206,250,0.12586907);\">palate</span> <span style=\"background-color:rgba(135,206,250,0.027219694);\">of</span> <span style=\"background-color:rgba(135,206,250,0.049539756);\">this</span> <span style=\"background-color:rgba(135,206,250,0.09441035);\">dry</span> <span style=\"background-color:rgba(135,206,250,0.046885952);\">,</span> <span style=\"background-color:rgba(135,206,250,0.1175369);\">medium</span> <span style=\"background-color:rgba(135,206,250,0.028313702);\">-</span> <span style=\"background-color:rgba(135,206,250,0.10083517);\">bodied</span> <span style=\"background-color:rgba(135,206,250,0.121702254);\">riesling</span> <span style=\"background-color:rgba(135,206,250,0.14580512);\">.</span> <span style=\"background-color:rgba(135,206,250,0.06768442);\">it</span> <span style=\"background-color:rgba(135,206,250,0.025101913);\">'</span> <span style=\"background-color:rgba(135,206,250,0.07879246);\">s</span> <span style=\"background-color:rgba(135,206,250,0.06841717);\">a</span> <span style=\"background-color:rgba(135,206,250,0.07295606);\">bit</span> <span style=\"background-color:rgba(135,206,250,0.25656477);\">lean</span> <span style=\"background-color:rgba(135,206,250,0.15609479);\">,</span> <span style=\"background-color:rgba(135,206,250,0.26231456);\">but</span> <span style=\"background-color:rgba(135,206,250,0.19504814);\">it</span> <span style=\"background-color:rgba(135,206,250,0.07321394);\">'</span> <span style=\"background-color:rgba(135,206,250,0.25114074);\">s</span> <span style=\"background-color:rgba(135,206,250,0.3035674);\">a</span> <span style=\"background-color:rgba(135,206,250,0.36551714);\">tad</span> <span style=\"background-color:rgba(135,206,250,0.90050346);\">lean</span> <span style=\"background-color:rgba(135,206,250,0.29131258);\">in</span> <span style=\"background-color:rgba(135,206,250,1.0);\">style</span> <span style=\"background-color:rgba(135,206,250,0.7733041);\">with</span>"
      ],
      "text/plain": [
       "<IPython.core.display.HTML object>"
      ]
     },
     "metadata": {},
     "output_type": "display_data"
    },
    {
     "name": "stdout",
     "output_type": "stream",
     "text": [
      "a:   \t84.73%\n",
      "tart:   \t6.84%\n",
      "lime:   \t1.62%\n",
      "brisk:   \t0.95%\n",
      "an:   \t0.68%\n",
      "--------\n",
      "\n"
     ]
    },
    {
     "data": {
      "text/html": [
       "<span style=\"background-color:rgba(135,206,250,0.04295056);\">wine</span> <span style=\"background-color:rgba(135,206,250,0.069522515);\">review</span> <span style=\"background-color:rgba(135,206,250,0.074288055);\">:</span> <span style=\"background-color:rgba(135,206,250,0.22583704);\">germany</span> <span style=\"background-color:rgba(135,206,250,0.022984855);\">:</span> <span style=\"background-color:rgba(135,206,250,0.092224814);\">rheinhessen</span> <span style=\"background-color:rgba(135,206,250,0.022593698);\">:</span> <span style=\"background-color:rgba(135,206,250,0.17304578);\">riesling</span> <span style=\"background-color:rgba(135,206,250,0.032399178);\">:</span> <span style=\"background-color:rgba(135,206,250,0.019423285);\">a</span> <span style=\"background-color:rgba(135,206,250,0.027430419);\">touch</span> <span style=\"background-color:rgba(135,206,250,0.015802212);\">of</span> <span style=\"background-color:rgba(135,206,250,0.05373243);\">mineral</span> <span style=\"background-color:rgba(135,206,250,0.06576479);\">clings</span> <span style=\"background-color:rgba(135,206,250,0.013528281);\">to</span> <span style=\"background-color:rgba(135,206,250,0.012364441);\">the</span> <span style=\"background-color:rgba(135,206,250,0.07200714);\">palate</span> <span style=\"background-color:rgba(135,206,250,0.014212784);\">of</span> <span style=\"background-color:rgba(135,206,250,0.024422731);\">this</span> <span style=\"background-color:rgba(135,206,250,0.055173587);\">dry</span> <span style=\"background-color:rgba(135,206,250,0.02101943);\">,</span> <span style=\"background-color:rgba(135,206,250,0.079301015);\">medium</span> <span style=\"background-color:rgba(135,206,250,0.014290108);\">-</span> <span style=\"background-color:rgba(135,206,250,0.052852858);\">bodied</span> <span style=\"background-color:rgba(135,206,250,0.054509807);\">riesling</span> <span style=\"background-color:rgba(135,206,250,0.07158693);\">.</span> <span style=\"background-color:rgba(135,206,250,0.027578799);\">it</span> <span style=\"background-color:rgba(135,206,250,0.008509804);\">'</span> <span style=\"background-color:rgba(135,206,250,0.033281773);\">s</span> <span style=\"background-color:rgba(135,206,250,0.018115753);\">a</span> <span style=\"background-color:rgba(135,206,250,0.04150052);\">bit</span> <span style=\"background-color:rgba(135,206,250,0.1268175);\">lean</span> <span style=\"background-color:rgba(135,206,250,0.04214759);\">,</span> <span style=\"background-color:rgba(135,206,250,0.063738145);\">but</span> <span style=\"background-color:rgba(135,206,250,0.058561143);\">it</span> <span style=\"background-color:rgba(135,206,250,0.016288418);\">'</span> <span style=\"background-color:rgba(135,206,250,0.08812421);\">s</span> <span style=\"background-color:rgba(135,206,250,0.038465887);\">a</span> <span style=\"background-color:rgba(135,206,250,0.16408727);\">tad</span> <span style=\"background-color:rgba(135,206,250,0.29019776);\">lean</span> <span style=\"background-color:rgba(135,206,250,0.26246652);\">in</span> <span style=\"background-color:rgba(135,206,250,0.3881275);\">style</span> <span style=\"background-color:rgba(135,206,250,1.0);\">with</span> <span style=\"background-color:rgba(135,206,250,0.2336907);\">a</span>"
      ],
      "text/plain": [
       "<IPython.core.display.HTML object>"
      ]
     },
     "metadata": {},
     "output_type": "display_data"
    },
    {
     "name": "stdout",
     "output_type": "stream",
     "text": [
      "tart:   \t22.4%\n",
      "brisk:   \t15.47%\n",
      "lean:   \t11.13%\n",
      "slightly:   \t5.27%\n",
      "clean:   \t3.36%\n",
      "--------\n",
      "\n"
     ]
    },
    {
     "data": {
      "text/html": [
       "<span style=\"background-color:rgba(135,206,250,0.082471855);\">wine</span> <span style=\"background-color:rgba(135,206,250,0.119786024);\">review</span> <span style=\"background-color:rgba(135,206,250,0.101242624);\">:</span> <span style=\"background-color:rgba(135,206,250,0.41109073);\">germany</span> <span style=\"background-color:rgba(135,206,250,0.057956945);\">:</span> <span style=\"background-color:rgba(135,206,250,0.16862589);\">rheinhessen</span> <span style=\"background-color:rgba(135,206,250,0.057006393);\">:</span> <span style=\"background-color:rgba(135,206,250,0.34070113);\">riesling</span> <span style=\"background-color:rgba(135,206,250,0.065852374);\">:</span> <span style=\"background-color:rgba(135,206,250,0.054705903);\">a</span> <span style=\"background-color:rgba(135,206,250,0.039960057);\">touch</span> <span style=\"background-color:rgba(135,206,250,0.03126696);\">of</span> <span style=\"background-color:rgba(135,206,250,0.05521118);\">mineral</span> <span style=\"background-color:rgba(135,206,250,0.055754185);\">clings</span> <span style=\"background-color:rgba(135,206,250,0.031221239);\">to</span> <span style=\"background-color:rgba(135,206,250,0.026821213);\">the</span> <span style=\"background-color:rgba(135,206,250,0.10469611);\">palate</span> <span style=\"background-color:rgba(135,206,250,0.027675249);\">of</span> <span style=\"background-color:rgba(135,206,250,0.03244777);\">this</span> <span style=\"background-color:rgba(135,206,250,0.044844735);\">dry</span> <span style=\"background-color:rgba(135,206,250,0.03464265);\">,</span> <span style=\"background-color:rgba(135,206,250,0.050035045);\">medium</span> <span style=\"background-color:rgba(135,206,250,0.01822639);\">-</span> <span style=\"background-color:rgba(135,206,250,0.065466255);\">bodied</span> <span style=\"background-color:rgba(135,206,250,0.09192939);\">riesling</span> <span style=\"background-color:rgba(135,206,250,0.11776661);\">.</span> <span style=\"background-color:rgba(135,206,250,0.04861868);\">it</span> <span style=\"background-color:rgba(135,206,250,0.017699433);\">'</span> <span style=\"background-color:rgba(135,206,250,0.06229738);\">s</span> <span style=\"background-color:rgba(135,206,250,0.0451427);\">a</span> <span style=\"background-color:rgba(135,206,250,0.049205147);\">bit</span> <span style=\"background-color:rgba(135,206,250,0.0917451);\">lean</span> <span style=\"background-color:rgba(135,206,250,0.06185454);\">,</span> <span style=\"background-color:rgba(135,206,250,0.07564608);\">but</span> <span style=\"background-color:rgba(135,206,250,0.12003407);\">it</span> <span style=\"background-color:rgba(135,206,250,0.038169913);\">'</span> <span style=\"background-color:rgba(135,206,250,0.15479419);\">s</span> <span style=\"background-color:rgba(135,206,250,0.1620289);\">a</span> <span style=\"background-color:rgba(135,206,250,0.3040707);\">tad</span> <span style=\"background-color:rgba(135,206,250,0.18055351);\">lean</span> <span style=\"background-color:rgba(135,206,250,0.26167142);\">in</span> <span style=\"background-color:rgba(135,206,250,0.5860927);\">style</span> <span style=\"background-color:rgba(135,206,250,0.9135);\">with</span> <span style=\"background-color:rgba(135,206,250,1.0);\">a</span> <span style=\"background-color:rgba(135,206,250,0.4964822);\">lemony</span>"
      ],
      "text/plain": [
       "<IPython.core.display.HTML object>"
      ]
     },
     "metadata": {},
     "output_type": "display_data"
    },
    {
     "name": "stdout",
     "output_type": "stream",
     "text": [
      "finish:   \t36.04%\n",
      "acidity:   \t29.93%\n",
      ",:   \t16.15%\n",
      "kick:   \t5.05%\n",
      "acid:   \t4.12%\n",
      "--------\n",
      "\n"
     ]
    },
    {
     "data": {
      "text/html": [
       "<span style=\"background-color:rgba(135,206,250,0.031276643);\">wine</span> <span style=\"background-color:rgba(135,206,250,0.06786735);\">review</span> <span style=\"background-color:rgba(135,206,250,0.055675846);\">:</span> <span style=\"background-color:rgba(135,206,250,0.19267574);\">germany</span> <span style=\"background-color:rgba(135,206,250,0.025325743);\">:</span> <span style=\"background-color:rgba(135,206,250,0.10092387);\">rheinhessen</span> <span style=\"background-color:rgba(135,206,250,0.022200525);\">:</span> <span style=\"background-color:rgba(135,206,250,0.19319755);\">riesling</span> <span style=\"background-color:rgba(135,206,250,0.033020448);\">:</span> <span style=\"background-color:rgba(135,206,250,0.020096987);\">a</span> <span style=\"background-color:rgba(135,206,250,0.025623662);\">touch</span> <span style=\"background-color:rgba(135,206,250,0.020063374);\">of</span> <span style=\"background-color:rgba(135,206,250,0.043359052);\">mineral</span> <span style=\"background-color:rgba(135,206,250,0.07555391);\">clings</span> <span style=\"background-color:rgba(135,206,250,0.014566057);\">to</span> <span style=\"background-color:rgba(135,206,250,0.015102693);\">the</span> <span style=\"background-color:rgba(135,206,250,0.046609044);\">palate</span> <span style=\"background-color:rgba(135,206,250,0.017579792);\">of</span> <span style=\"background-color:rgba(135,206,250,0.04531511);\">this</span> <span style=\"background-color:rgba(135,206,250,0.043952756);\">dry</span> <span style=\"background-color:rgba(135,206,250,0.021398233);\">,</span> <span style=\"background-color:rgba(135,206,250,0.04512655);\">medium</span> <span style=\"background-color:rgba(135,206,250,0.011623349);\">-</span> <span style=\"background-color:rgba(135,206,250,0.035149444);\">bodied</span> <span style=\"background-color:rgba(135,206,250,0.06050382);\">riesling</span> <span style=\"background-color:rgba(135,206,250,0.102973625);\">.</span> <span style=\"background-color:rgba(135,206,250,0.08150584);\">it</span> <span style=\"background-color:rgba(135,206,250,0.009436762);\">'</span> <span style=\"background-color:rgba(135,206,250,0.06181812);\">s</span> <span style=\"background-color:rgba(135,206,250,0.023527892);\">a</span> <span style=\"background-color:rgba(135,206,250,0.042487804);\">bit</span> <span style=\"background-color:rgba(135,206,250,0.10627527);\">lean</span> <span style=\"background-color:rgba(135,206,250,0.03491138);\">,</span> <span style=\"background-color:rgba(135,206,250,0.08302872);\">but</span> <span style=\"background-color:rgba(135,206,250,0.12891935);\">it</span> <span style=\"background-color:rgba(135,206,250,0.014716343);\">'</span> <span style=\"background-color:rgba(135,206,250,0.1239164);\">s</span> <span style=\"background-color:rgba(135,206,250,0.06534171);\">a</span> <span style=\"background-color:rgba(135,206,250,0.18794942);\">tad</span> <span style=\"background-color:rgba(135,206,250,0.24151137);\">lean</span> <span style=\"background-color:rgba(135,206,250,0.124211356);\">in</span> <span style=\"background-color:rgba(135,206,250,0.35382804);\">style</span> <span style=\"background-color:rgba(135,206,250,0.4951882);\">with</span> <span style=\"background-color:rgba(135,206,250,0.3933482);\">a</span> <span style=\"background-color:rgba(135,206,250,1.0);\">lemony</span> <span style=\"background-color:rgba(135,206,250,0.32565784);\">,</span>"
      ],
      "text/plain": [
       "<IPython.core.display.HTML object>"
      ]
     },
     "metadata": {},
     "output_type": "display_data"
    },
    {
     "name": "stdout",
     "output_type": "stream",
     "text": [
      "tart:   \t28.97%\n",
      "with:   \t16.9%\n",
      "but:   \t12.2%\n",
      "lime:   \t9.89%\n",
      "finishing:   \t4.46%\n",
      "--------\n",
      "\n"
     ]
    },
    {
     "data": {
      "text/html": [
       "<span style=\"background-color:rgba(135,206,250,0.07489046);\">wine</span> <span style=\"background-color:rgba(135,206,250,0.116692655);\">review</span> <span style=\"background-color:rgba(135,206,250,0.06872935);\">:</span> <span style=\"background-color:rgba(135,206,250,0.5513006);\">germany</span> <span style=\"background-color:rgba(135,206,250,0.040754814);\">:</span> <span style=\"background-color:rgba(135,206,250,0.30803284);\">rheinhessen</span> <span style=\"background-color:rgba(135,206,250,0.043458708);\">:</span> <span style=\"background-color:rgba(135,206,250,0.50889945);\">riesling</span> <span style=\"background-color:rgba(135,206,250,0.05633668);\">:</span> <span style=\"background-color:rgba(135,206,250,0.039415296);\">a</span> <span style=\"background-color:rgba(135,206,250,0.04511196);\">touch</span> <span style=\"background-color:rgba(135,206,250,0.032432184);\">of</span> <span style=\"background-color:rgba(135,206,250,0.069782294);\">mineral</span> <span style=\"background-color:rgba(135,206,250,0.06189333);\">clings</span> <span style=\"background-color:rgba(135,206,250,0.028415339);\">to</span> <span style=\"background-color:rgba(135,206,250,0.02382898);\">the</span> <span style=\"background-color:rgba(135,206,250,0.10226275);\">palate</span> <span style=\"background-color:rgba(135,206,250,0.027158033);\">of</span> <span style=\"background-color:rgba(135,206,250,0.03123894);\">this</span> <span style=\"background-color:rgba(135,206,250,0.059612688);\">dry</span> <span style=\"background-color:rgba(135,206,250,0.034402225);\">,</span> <span style=\"background-color:rgba(135,206,250,0.0598072);\">medium</span> <span style=\"background-color:rgba(135,206,250,0.017136464);\">-</span> <span style=\"background-color:rgba(135,206,250,0.08338121);\">bodied</span> <span style=\"background-color:rgba(135,206,250,0.14020535);\">riesling</span> <span style=\"background-color:rgba(135,206,250,0.11364647);\">.</span> <span style=\"background-color:rgba(135,206,250,0.045612015);\">it</span> <span style=\"background-color:rgba(135,206,250,0.013187773);\">'</span> <span style=\"background-color:rgba(135,206,250,0.068852924);\">s</span> <span style=\"background-color:rgba(135,206,250,0.032095775);\">a</span> <span style=\"background-color:rgba(135,206,250,0.05846511);\">bit</span> <span style=\"background-color:rgba(135,206,250,0.12562606);\">lean</span> <span style=\"background-color:rgba(135,206,250,0.05441384);\">,</span> <span style=\"background-color:rgba(135,206,250,0.07022339);\">but</span> <span style=\"background-color:rgba(135,206,250,0.08892468);\">it</span> <span style=\"background-color:rgba(135,206,250,0.02227006);\">'</span> <span style=\"background-color:rgba(135,206,250,0.1419991);\">s</span> <span style=\"background-color:rgba(135,206,250,0.11239289);\">a</span> <span style=\"background-color:rgba(135,206,250,0.2846523);\">tad</span> <span style=\"background-color:rgba(135,206,250,0.1964134);\">lean</span> <span style=\"background-color:rgba(135,206,250,0.20048961);\">in</span> <span style=\"background-color:rgba(135,206,250,0.32170716);\">style</span> <span style=\"background-color:rgba(135,206,250,0.89750654);\">with</span> <span style=\"background-color:rgba(135,206,250,0.9917872);\">a</span> <span style=\"background-color:rgba(135,206,250,0.62173325);\">lemony</span> <span style=\"background-color:rgba(135,206,250,1.0);\">,</span> <span style=\"background-color:rgba(135,206,250,0.4502893);\">tart</span>"
      ],
      "text/plain": [
       "<IPython.core.display.HTML object>"
      ]
     },
     "metadata": {},
     "output_type": "display_data"
    },
    {
     "name": "stdout",
     "output_type": "stream",
     "text": [
      "finish:   \t42.97%\n",
      ",:   \t31.12%\n",
      "lime:   \t7.25%\n",
      "lemon:   \t6.39%\n",
      "green:   \t3.16%\n",
      "--------\n",
      "\n"
     ]
    },
    {
     "data": {
      "text/html": [
       "<span style=\"background-color:rgba(135,206,250,0.06683514);\">wine</span> <span style=\"background-color:rgba(135,206,250,0.16004325);\">review</span> <span style=\"background-color:rgba(135,206,250,0.18894048);\">:</span> <span style=\"background-color:rgba(135,206,250,0.3736303);\">germany</span> <span style=\"background-color:rgba(135,206,250,0.04999878);\">:</span> <span style=\"background-color:rgba(135,206,250,0.12682728);\">rheinhessen</span> <span style=\"background-color:rgba(135,206,250,0.037022192);\">:</span> <span style=\"background-color:rgba(135,206,250,0.11693645);\">riesling</span> <span style=\"background-color:rgba(135,206,250,0.05112196);\">:</span> <span style=\"background-color:rgba(135,206,250,0.055232167);\">a</span> <span style=\"background-color:rgba(135,206,250,0.036890324);\">touch</span> <span style=\"background-color:rgba(135,206,250,0.019933471);\">of</span> <span style=\"background-color:rgba(135,206,250,0.04794006);\">mineral</span> <span style=\"background-color:rgba(135,206,250,0.12068011);\">clings</span> <span style=\"background-color:rgba(135,206,250,0.0155126555);\">to</span> <span style=\"background-color:rgba(135,206,250,0.026202926);\">the</span> <span style=\"background-color:rgba(135,206,250,0.02753878);\">palate</span> <span style=\"background-color:rgba(135,206,250,0.015800675);\">of</span> <span style=\"background-color:rgba(135,206,250,0.03996298);\">this</span> <span style=\"background-color:rgba(135,206,250,0.04130319);\">dry</span> <span style=\"background-color:rgba(135,206,250,0.033463087);\">,</span> <span style=\"background-color:rgba(135,206,250,0.058772765);\">medium</span> <span style=\"background-color:rgba(135,206,250,0.017463299);\">-</span> <span style=\"background-color:rgba(135,206,250,0.038342264);\">bodied</span> <span style=\"background-color:rgba(135,206,250,0.05186003);\">riesling</span> <span style=\"background-color:rgba(135,206,250,0.12891512);\">.</span> <span style=\"background-color:rgba(135,206,250,0.0699714);\">it</span> <span style=\"background-color:rgba(135,206,250,0.020268735);\">'</span> <span style=\"background-color:rgba(135,206,250,0.07737585);\">s</span> <span style=\"background-color:rgba(135,206,250,0.06571255);\">a</span> <span style=\"background-color:rgba(135,206,250,0.050394963);\">bit</span> <span style=\"background-color:rgba(135,206,250,0.17004901);\">lean</span> <span style=\"background-color:rgba(135,206,250,0.08342965);\">,</span> <span style=\"background-color:rgba(135,206,250,0.15177669);\">but</span> <span style=\"background-color:rgba(135,206,250,0.12919967);\">it</span> <span style=\"background-color:rgba(135,206,250,0.04408374);\">'</span> <span style=\"background-color:rgba(135,206,250,0.16776164);\">s</span> <span style=\"background-color:rgba(135,206,250,0.18242905);\">a</span> <span style=\"background-color:rgba(135,206,250,0.20861404);\">tad</span> <span style=\"background-color:rgba(135,206,250,0.33654183);\">lean</span> <span style=\"background-color:rgba(135,206,250,0.24413197);\">in</span> <span style=\"background-color:rgba(135,206,250,0.2579533);\">style</span> <span style=\"background-color:rgba(135,206,250,0.8319515);\">with</span> <span style=\"background-color:rgba(135,206,250,0.70555174);\">a</span> <span style=\"background-color:rgba(135,206,250,0.55870295);\">lemony</span> <span style=\"background-color:rgba(135,206,250,1.0);\">,</span> <span style=\"background-color:rgba(135,206,250,0.740074);\">tart</span> <span style=\"background-color:rgba(135,206,250,0.66391957);\">finish</span>"
      ],
      "text/plain": [
       "<IPython.core.display.HTML object>"
      ]
     },
     "metadata": {},
     "output_type": "display_data"
    },
    {
     "name": "stdout",
     "output_type": "stream",
     "text": [
      ".:   \t99.9%\n",
      "that:   \t0.08%\n",
      "with:   \t0.01%\n",
      ",:   \t0.01%\n",
      "and:   \t0.0%\n",
      "--------\n",
      "\n"
     ]
    },
    {
     "data": {
      "text/html": [
       "<span style=\"background-color:rgba(135,206,250,0.38482293);\">wine</span> <span style=\"background-color:rgba(135,206,250,0.14507319);\">review</span> <span style=\"background-color:rgba(135,206,250,0.768157);\">:</span> <span style=\"background-color:rgba(135,206,250,0.8749123);\">germany</span> <span style=\"background-color:rgba(135,206,250,0.2770467);\">:</span> <span style=\"background-color:rgba(135,206,250,0.33654097);\">rheinhessen</span> <span style=\"background-color:rgba(135,206,250,0.20245226);\">:</span> <span style=\"background-color:rgba(135,206,250,1.0);\">riesling</span> <span style=\"background-color:rgba(135,206,250,0.16308525);\">:</span> <span style=\"background-color:rgba(135,206,250,0.07263177);\">a</span> <span style=\"background-color:rgba(135,206,250,0.061676037);\">touch</span> <span style=\"background-color:rgba(135,206,250,0.044213213);\">of</span> <span style=\"background-color:rgba(135,206,250,0.089164555);\">mineral</span> <span style=\"background-color:rgba(135,206,250,0.12681367);\">clings</span> <span style=\"background-color:rgba(135,206,250,0.04003159);\">to</span> <span style=\"background-color:rgba(135,206,250,0.035847276);\">the</span> <span style=\"background-color:rgba(135,206,250,0.13578808);\">palate</span> <span style=\"background-color:rgba(135,206,250,0.028742809);\">of</span> <span style=\"background-color:rgba(135,206,250,0.09747041);\">this</span> <span style=\"background-color:rgba(135,206,250,0.07940877);\">dry</span> <span style=\"background-color:rgba(135,206,250,0.049489405);\">,</span> <span style=\"background-color:rgba(135,206,250,0.1047879);\">medium</span> <span style=\"background-color:rgba(135,206,250,0.028618826);\">-</span> <span style=\"background-color:rgba(135,206,250,0.08906305);\">bodied</span> <span style=\"background-color:rgba(135,206,250,0.1115352);\">riesling</span> <span style=\"background-color:rgba(135,206,250,0.13536581);\">.</span> <span style=\"background-color:rgba(135,206,250,0.0968046);\">it</span> <span style=\"background-color:rgba(135,206,250,0.019613743);\">'</span> <span style=\"background-color:rgba(135,206,250,0.059068177);\">s</span> <span style=\"background-color:rgba(135,206,250,0.049740516);\">a</span> <span style=\"background-color:rgba(135,206,250,0.077793494);\">bit</span> <span style=\"background-color:rgba(135,206,250,0.15931016);\">lean</span> <span style=\"background-color:rgba(135,206,250,0.07710577);\">,</span> <span style=\"background-color:rgba(135,206,250,0.10166117);\">but</span> <span style=\"background-color:rgba(135,206,250,0.15650572);\">it</span> <span style=\"background-color:rgba(135,206,250,0.036350105);\">'</span> <span style=\"background-color:rgba(135,206,250,0.0931483);\">s</span> <span style=\"background-color:rgba(135,206,250,0.089640796);\">a</span> <span style=\"background-color:rgba(135,206,250,0.1911416);\">tad</span> <span style=\"background-color:rgba(135,206,250,0.2197046);\">lean</span> <span style=\"background-color:rgba(135,206,250,0.084528096);\">in</span> <span style=\"background-color:rgba(135,206,250,0.13693218);\">style</span> <span style=\"background-color:rgba(135,206,250,0.18992427);\">with</span> <span style=\"background-color:rgba(135,206,250,0.14848554);\">a</span> <span style=\"background-color:rgba(135,206,250,0.17874219);\">lemony</span> <span style=\"background-color:rgba(135,206,250,0.23709656);\">,</span> <span style=\"background-color:rgba(135,206,250,0.17576373);\">tart</span> <span style=\"background-color:rgba(135,206,250,0.70021);\">finish</span> <span style=\"background-color:rgba(135,206,250,0.4501382);\">.</span>"
      ],
      "text/plain": [
       "<IPython.core.display.HTML object>"
      ]
     },
     "metadata": {},
     "output_type": "display_data"
    },
    {
     "name": "stdout",
     "output_type": "stream",
     "text": [
      ":   \t98.66%\n",
      "drink:   \t1.2%\n",
      "it:   \t0.1%\n",
      "a:   \t0.01%\n",
      "the:   \t0.01%\n",
      "--------\n",
      "\n"
     ]
    }
   ],
   "source": [
    "info = text_generator.generate(\n",
    "    \"wine review : germany\", max_tokens=80, temperature=0.5\n",
    ")\n",
    "print_probs(info, vocab)"
   ]
  },
  {
   "cell_type": "code",
   "execution_count": null,
   "id": "fcc7a7c0-6c64-47d3-acee-96e48f025e01",
   "metadata": {},
   "outputs": [],
   "source": []
  },
  {
   "cell_type": "code",
   "execution_count": null,
   "id": "4122154c-9e41-44ba-8c5f-fe88a55fe977",
   "metadata": {},
   "outputs": [],
   "source": []
  }
 ],
 "metadata": {
  "kernelspec": {
   "display_name": "Python 3 (ipykernel)",
   "language": "python",
   "name": "python3"
  },
  "language_info": {
   "codemirror_mode": {
    "name": "ipython",
    "version": 3
   },
   "file_extension": ".py",
   "mimetype": "text/x-python",
   "name": "python",
   "nbconvert_exporter": "python",
   "pygments_lexer": "ipython3",
   "version": "3.11.5"
  },
  "vscode": {
   "interpreter": {
    "hash": "31f2aee4e71d21fbe5cf8b01ff0e069b9275f58929596ceb00d14d90e3e16cd6"
   }
  }
 },
 "nbformat": 4,
 "nbformat_minor": 5
}
